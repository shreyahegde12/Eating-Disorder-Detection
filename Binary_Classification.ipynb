{
  "cells": [
    {
      "cell_type": "markdown",
      "metadata": {},
      "source": [
        "Binary Classification of Eating Disorder Posts from Reddit"
      ]
    },
    {
      "cell_type": "code",
      "execution_count": 208,
      "metadata": {
        "id": "kqQ3GhPByM2v"
      },
      "outputs": [],
      "source": [
        "import pandas as pd\n",
        "from sklearn.model_selection import train_test_split\n",
        "from sklearn.feature_extraction.text import CountVectorizer\n",
        "from sklearn.naive_bayes import MultinomialNB\n",
        "from sklearn.metrics import accuracy_score, classification_report, confusion_matrix\n",
        "import re\n",
        "from nltk.corpus import stopwords\n",
        "from nltk.stem import PorterStemmer\n",
        "from nltk.tokenize import word_tokenize"
      ]
    },
    {
      "cell_type": "code",
      "execution_count": 209,
      "metadata": {
        "colab": {
          "base_uri": "https://localhost:8080/",
          "height": 770
        },
        "id": "5oPRVulL2nLo",
        "outputId": "4d55b321-bb00-4e8a-9936-c6492523cde2"
      },
      "outputs": [
        {
          "data": {
            "text/html": [
              "\n",
              "  <div id=\"df-9c21e050-a986-4f77-a88c-dbb61390b1eb\" class=\"colab-df-container\">\n",
              "    <div>\n",
              "<style scoped>\n",
              "    .dataframe tbody tr th:only-of-type {\n",
              "        vertical-align: middle;\n",
              "    }\n",
              "\n",
              "    .dataframe tbody tr th {\n",
              "        vertical-align: top;\n",
              "    }\n",
              "\n",
              "    .dataframe thead th {\n",
              "        text-align: right;\n",
              "    }\n",
              "</style>\n",
              "<table border=\"1\" class=\"dataframe\">\n",
              "  <thead>\n",
              "    <tr style=\"text-align: right;\">\n",
              "      <th></th>\n",
              "      <th>Title</th>\n",
              "      <th>Post Text</th>\n",
              "      <th>ID</th>\n",
              "      <th>Author</th>\n",
              "      <th>Created_utc</th>\n",
              "      <th>Permalink</th>\n",
              "      <th>Eating Disorder</th>\n",
              "      <th>Content</th>\n",
              "      <th>Type</th>\n",
              "    </tr>\n",
              "  </thead>\n",
              "  <tbody>\n",
              "    <tr>\n",
              "      <th>0</th>\n",
              "      <td>*lil rant* btw i don’t mean to be an asshole, ...</td>\n",
              "      <td>please tell me i’m not the only one who finds ...</td>\n",
              "      <td>yxutx5</td>\n",
              "      <td>Anxious-Enthusiasm-7</td>\n",
              "      <td>2022-11-17 16:38:04</td>\n",
              "      <td>https://reddit.com/r/AnorexiaRecovery/comments...</td>\n",
              "      <td>1</td>\n",
              "      <td>*lil rant* btw i don’t mean to be an asshole, ...</td>\n",
              "      <td>Anorexia</td>\n",
              "    </tr>\n",
              "    <tr>\n",
              "      <th>1</th>\n",
              "      <td>I hit a healthy BMI</td>\n",
              "      <td>And I’m ok with it! Here’s to keeping going in...</td>\n",
              "      <td>wl2gds</td>\n",
              "      <td>[deleted]</td>\n",
              "      <td>2022-08-10 16:52:41</td>\n",
              "      <td>https://reddit.com/r/AnorexiaRecovery/comments...</td>\n",
              "      <td>1</td>\n",
              "      <td>I hit a healthy BMI. And I’m ok with it! Here’...</td>\n",
              "      <td>Anorexia</td>\n",
              "    </tr>\n",
              "    <tr>\n",
              "      <th>2</th>\n",
              "      <td>I GOT MY PERIOD BACK !!</td>\n",
              "      <td>after 2 yrs of no period, i got it back throug...</td>\n",
              "      <td>13hgcir</td>\n",
              "      <td>JokeFit5094</td>\n",
              "      <td>2023-05-14 16:18:17</td>\n",
              "      <td>https://reddit.com/r/AnorexiaRecovery/comments...</td>\n",
              "      <td>1</td>\n",
              "      <td>I GOT MY PERIOD BACK !!. after 2 yrs of no per...</td>\n",
              "      <td>Anorexia</td>\n",
              "    </tr>\n",
              "    <tr>\n",
              "      <th>3</th>\n",
              "      <td>a story i guess</td>\n",
              "      <td>i used go to my friends house a lot. after lun...</td>\n",
              "      <td>10d1d0s</td>\n",
              "      <td>swagalicious567</td>\n",
              "      <td>2023-01-16 01:32:28</td>\n",
              "      <td>https://reddit.com/r/AnorexiaRecovery/comments...</td>\n",
              "      <td>1</td>\n",
              "      <td>a story i guess. i used go to my friends house...</td>\n",
              "      <td>Anorexia</td>\n",
              "    </tr>\n",
              "    <tr>\n",
              "      <th>4</th>\n",
              "      <td>I finally ate the one food I said if I’d be ab...</td>\n",
              "      <td>GUYS I DID IT😭😭😭😭😭 I FINALLY ATE A CHEESEBURGE...</td>\n",
              "      <td>yasyf3</td>\n",
              "      <td>LaurenAshley1307</td>\n",
              "      <td>2022-10-22 17:04:40</td>\n",
              "      <td>https://reddit.com/r/AnorexiaRecovery/comments...</td>\n",
              "      <td>1</td>\n",
              "      <td>I finally ate the one food I said if I’d be ab...</td>\n",
              "      <td>Anorexia</td>\n",
              "    </tr>\n",
              "    <tr>\n",
              "      <th>...</th>\n",
              "      <td>...</td>\n",
              "      <td>...</td>\n",
              "      <td>...</td>\n",
              "      <td>...</td>\n",
              "      <td>...</td>\n",
              "      <td>...</td>\n",
              "      <td>...</td>\n",
              "      <td>...</td>\n",
              "      <td>...</td>\n",
              "    </tr>\n",
              "    <tr>\n",
              "      <th>10182</th>\n",
              "      <td>How painful is yoga supposed to be?</td>\n",
              "      <td>40 y/o male, practicing yoga in a studio (blac...</td>\n",
              "      <td>yv7clf</td>\n",
              "      <td>Legend565252</td>\n",
              "      <td>2022-11-14 18:02:55</td>\n",
              "      <td>https://reddit.com/r/yoga/comments/yv7clf/how_...</td>\n",
              "      <td>0</td>\n",
              "      <td>How painful is yoga supposed to be?. 40 y/o ma...</td>\n",
              "      <td>NonED</td>\n",
              "    </tr>\n",
              "    <tr>\n",
              "      <th>10183</th>\n",
              "      <td>[COMP] Now just keep the foot there without ho...</td>\n",
              "      <td>Sending serious dedication in practice and sil...</td>\n",
              "      <td>159fg37</td>\n",
              "      <td>thementalyogi</td>\n",
              "      <td>2023-07-25 17:44:29</td>\n",
              "      <td>https://reddit.com/r/yoga/comments/159fg37/com...</td>\n",
              "      <td>0</td>\n",
              "      <td>[COMP] Now just keep the foot there without ho...</td>\n",
              "      <td>NonED</td>\n",
              "    </tr>\n",
              "    <tr>\n",
              "      <th>10184</th>\n",
              "      <td>My Journey with Yoga</td>\n",
              "      <td>Hello, I’m 69, and have been practicing for 29...</td>\n",
              "      <td>113hmwg</td>\n",
              "      <td>No_Style_3018</td>\n",
              "      <td>2023-02-16 04:12:33</td>\n",
              "      <td>https://reddit.com/r/yoga/comments/113hmwg/my_...</td>\n",
              "      <td>0</td>\n",
              "      <td>My Journey with Yoga. Hello, I’m 69, and have ...</td>\n",
              "      <td>NonED</td>\n",
              "    </tr>\n",
              "    <tr>\n",
              "      <th>10185</th>\n",
              "      <td>Starting Yoga at 70.</td>\n",
              "      <td>I will be 70 in a few weeks.\\n\\nI do some smal...</td>\n",
              "      <td>101wupy</td>\n",
              "      <td>[deleted]</td>\n",
              "      <td>2023-01-03 03:29:56</td>\n",
              "      <td>https://reddit.com/r/yoga/comments/101wupy/sta...</td>\n",
              "      <td>0</td>\n",
              "      <td>Starting Yoga at 70.. I will be 70 in a few we...</td>\n",
              "      <td>NonED</td>\n",
              "    </tr>\n",
              "    <tr>\n",
              "      <th>10186</th>\n",
              "      <td>[COMP] Tortoise Pose</td>\n",
              "      <td>NaN</td>\n",
              "      <td>zm7q1s</td>\n",
              "      <td>[deleted]</td>\n",
              "      <td>2022-12-15 00:57:43</td>\n",
              "      <td>https://reddit.com/r/yoga/comments/zm7q1s/comp...</td>\n",
              "      <td>0</td>\n",
              "      <td>[COMP] Tortoise Pose.</td>\n",
              "      <td>NonED</td>\n",
              "    </tr>\n",
              "  </tbody>\n",
              "</table>\n",
              "<p>10187 rows × 9 columns</p>\n",
              "</div>\n",
              "    <div class=\"colab-df-buttons\">\n",
              "\n",
              "  <div class=\"colab-df-container\">\n",
              "    <button class=\"colab-df-convert\" onclick=\"convertToInteractive('df-9c21e050-a986-4f77-a88c-dbb61390b1eb')\"\n",
              "            title=\"Convert this dataframe to an interactive table.\"\n",
              "            style=\"display:none;\">\n",
              "\n",
              "  <svg xmlns=\"http://www.w3.org/2000/svg\" height=\"24px\" viewBox=\"0 -960 960 960\">\n",
              "    <path d=\"M120-120v-720h720v720H120Zm60-500h600v-160H180v160Zm220 220h160v-160H400v160Zm0 220h160v-160H400v160ZM180-400h160v-160H180v160Zm440 0h160v-160H620v160ZM180-180h160v-160H180v160Zm440 0h160v-160H620v160Z\"/>\n",
              "  </svg>\n",
              "    </button>\n",
              "\n",
              "  <style>\n",
              "    .colab-df-container {\n",
              "      display:flex;\n",
              "      gap: 12px;\n",
              "    }\n",
              "\n",
              "    .colab-df-convert {\n",
              "      background-color: #E8F0FE;\n",
              "      border: none;\n",
              "      border-radius: 50%;\n",
              "      cursor: pointer;\n",
              "      display: none;\n",
              "      fill: #1967D2;\n",
              "      height: 32px;\n",
              "      padding: 0 0 0 0;\n",
              "      width: 32px;\n",
              "    }\n",
              "\n",
              "    .colab-df-convert:hover {\n",
              "      background-color: #E2EBFA;\n",
              "      box-shadow: 0px 1px 2px rgba(60, 64, 67, 0.3), 0px 1px 3px 1px rgba(60, 64, 67, 0.15);\n",
              "      fill: #174EA6;\n",
              "    }\n",
              "\n",
              "    .colab-df-buttons div {\n",
              "      margin-bottom: 4px;\n",
              "    }\n",
              "\n",
              "    [theme=dark] .colab-df-convert {\n",
              "      background-color: #3B4455;\n",
              "      fill: #D2E3FC;\n",
              "    }\n",
              "\n",
              "    [theme=dark] .colab-df-convert:hover {\n",
              "      background-color: #434B5C;\n",
              "      box-shadow: 0px 1px 3px 1px rgba(0, 0, 0, 0.15);\n",
              "      filter: drop-shadow(0px 1px 2px rgba(0, 0, 0, 0.3));\n",
              "      fill: #FFFFFF;\n",
              "    }\n",
              "  </style>\n",
              "\n",
              "    <script>\n",
              "      const buttonEl =\n",
              "        document.querySelector('#df-9c21e050-a986-4f77-a88c-dbb61390b1eb button.colab-df-convert');\n",
              "      buttonEl.style.display =\n",
              "        google.colab.kernel.accessAllowed ? 'block' : 'none';\n",
              "\n",
              "      async function convertToInteractive(key) {\n",
              "        const element = document.querySelector('#df-9c21e050-a986-4f77-a88c-dbb61390b1eb');\n",
              "        const dataTable =\n",
              "          await google.colab.kernel.invokeFunction('convertToInteractive',\n",
              "                                                    [key], {});\n",
              "        if (!dataTable) return;\n",
              "\n",
              "        const docLinkHtml = 'Like what you see? Visit the ' +\n",
              "          '<a target=\"_blank\" href=https://colab.research.google.com/notebooks/data_table.ipynb>data table notebook</a>'\n",
              "          + ' to learn more about interactive tables.';\n",
              "        element.innerHTML = '';\n",
              "        dataTable['output_type'] = 'display_data';\n",
              "        await google.colab.output.renderOutput(dataTable, element);\n",
              "        const docLink = document.createElement('div');\n",
              "        docLink.innerHTML = docLinkHtml;\n",
              "        element.appendChild(docLink);\n",
              "      }\n",
              "    </script>\n",
              "  </div>\n",
              "\n",
              "\n",
              "<div id=\"df-e3e77060-fc50-4061-8258-754f2d7731dd\">\n",
              "  <button class=\"colab-df-quickchart\" onclick=\"quickchart('df-e3e77060-fc50-4061-8258-754f2d7731dd')\"\n",
              "            title=\"Suggest charts.\"\n",
              "            style=\"display:none;\">\n",
              "\n",
              "<svg xmlns=\"http://www.w3.org/2000/svg\" height=\"24px\"viewBox=\"0 0 24 24\"\n",
              "     width=\"24px\">\n",
              "    <g>\n",
              "        <path d=\"M19 3H5c-1.1 0-2 .9-2 2v14c0 1.1.9 2 2 2h14c1.1 0 2-.9 2-2V5c0-1.1-.9-2-2-2zM9 17H7v-7h2v7zm4 0h-2V7h2v10zm4 0h-2v-4h2v4z\"/>\n",
              "    </g>\n",
              "</svg>\n",
              "  </button>\n",
              "\n",
              "<style>\n",
              "  .colab-df-quickchart {\n",
              "    background-color: #E8F0FE;\n",
              "    border: none;\n",
              "    border-radius: 50%;\n",
              "    cursor: pointer;\n",
              "    display: none;\n",
              "    fill: #1967D2;\n",
              "    height: 32px;\n",
              "    padding: 0 0 0 0;\n",
              "    width: 32px;\n",
              "  }\n",
              "\n",
              "  .colab-df-quickchart:hover {\n",
              "    background-color: #E2EBFA;\n",
              "    box-shadow: 0px 1px 2px rgba(60, 64, 67, 0.3), 0px 1px 3px 1px rgba(60, 64, 67, 0.15);\n",
              "    fill: #174EA6;\n",
              "  }\n",
              "\n",
              "  [theme=dark] .colab-df-quickchart {\n",
              "    background-color: #3B4455;\n",
              "    fill: #D2E3FC;\n",
              "  }\n",
              "\n",
              "  [theme=dark] .colab-df-quickchart:hover {\n",
              "    background-color: #434B5C;\n",
              "    box-shadow: 0px 1px 3px 1px rgba(0, 0, 0, 0.15);\n",
              "    filter: drop-shadow(0px 1px 2px rgba(0, 0, 0, 0.3));\n",
              "    fill: #FFFFFF;\n",
              "  }\n",
              "</style>\n",
              "\n",
              "  <script>\n",
              "    async function quickchart(key) {\n",
              "      const charts = await google.colab.kernel.invokeFunction(\n",
              "          'suggestCharts', [key], {});\n",
              "    }\n",
              "    (() => {\n",
              "      let quickchartButtonEl =\n",
              "        document.querySelector('#df-e3e77060-fc50-4061-8258-754f2d7731dd button');\n",
              "      quickchartButtonEl.style.display =\n",
              "        google.colab.kernel.accessAllowed ? 'block' : 'none';\n",
              "    })();\n",
              "  </script>\n",
              "</div>\n",
              "    </div>\n",
              "  </div>\n"
            ],
            "text/plain": [
              "                                                   Title  \\\n",
              "0      *lil rant* btw i don’t mean to be an asshole, ...   \n",
              "1                                    I hit a healthy BMI   \n",
              "2                                I GOT MY PERIOD BACK !!   \n",
              "3                                        a story i guess   \n",
              "4      I finally ate the one food I said if I’d be ab...   \n",
              "...                                                  ...   \n",
              "10182                How painful is yoga supposed to be?   \n",
              "10183  [COMP] Now just keep the foot there without ho...   \n",
              "10184                               My Journey with Yoga   \n",
              "10185                               Starting Yoga at 70.   \n",
              "10186                               [COMP] Tortoise Pose   \n",
              "\n",
              "                                               Post Text       ID  \\\n",
              "0      please tell me i’m not the only one who finds ...   yxutx5   \n",
              "1      And I’m ok with it! Here’s to keeping going in...   wl2gds   \n",
              "2      after 2 yrs of no period, i got it back throug...  13hgcir   \n",
              "3      i used go to my friends house a lot. after lun...  10d1d0s   \n",
              "4      GUYS I DID IT😭😭😭😭😭 I FINALLY ATE A CHEESEBURGE...   yasyf3   \n",
              "...                                                  ...      ...   \n",
              "10182  40 y/o male, practicing yoga in a studio (blac...   yv7clf   \n",
              "10183  Sending serious dedication in practice and sil...  159fg37   \n",
              "10184  Hello, I’m 69, and have been practicing for 29...  113hmwg   \n",
              "10185  I will be 70 in a few weeks.\\n\\nI do some smal...  101wupy   \n",
              "10186                                                NaN   zm7q1s   \n",
              "\n",
              "                     Author         Created_utc  \\\n",
              "0      Anxious-Enthusiasm-7 2022-11-17 16:38:04   \n",
              "1                 [deleted] 2022-08-10 16:52:41   \n",
              "2               JokeFit5094 2023-05-14 16:18:17   \n",
              "3           swagalicious567 2023-01-16 01:32:28   \n",
              "4          LaurenAshley1307 2022-10-22 17:04:40   \n",
              "...                     ...                 ...   \n",
              "10182          Legend565252 2022-11-14 18:02:55   \n",
              "10183         thementalyogi 2023-07-25 17:44:29   \n",
              "10184         No_Style_3018 2023-02-16 04:12:33   \n",
              "10185             [deleted] 2023-01-03 03:29:56   \n",
              "10186             [deleted] 2022-12-15 00:57:43   \n",
              "\n",
              "                                               Permalink  Eating Disorder  \\\n",
              "0      https://reddit.com/r/AnorexiaRecovery/comments...                1   \n",
              "1      https://reddit.com/r/AnorexiaRecovery/comments...                1   \n",
              "2      https://reddit.com/r/AnorexiaRecovery/comments...                1   \n",
              "3      https://reddit.com/r/AnorexiaRecovery/comments...                1   \n",
              "4      https://reddit.com/r/AnorexiaRecovery/comments...                1   \n",
              "...                                                  ...              ...   \n",
              "10182  https://reddit.com/r/yoga/comments/yv7clf/how_...                0   \n",
              "10183  https://reddit.com/r/yoga/comments/159fg37/com...                0   \n",
              "10184  https://reddit.com/r/yoga/comments/113hmwg/my_...                0   \n",
              "10185  https://reddit.com/r/yoga/comments/101wupy/sta...                0   \n",
              "10186  https://reddit.com/r/yoga/comments/zm7q1s/comp...                0   \n",
              "\n",
              "                                                 Content      Type  \n",
              "0      *lil rant* btw i don’t mean to be an asshole, ...  Anorexia  \n",
              "1      I hit a healthy BMI. And I’m ok with it! Here’...  Anorexia  \n",
              "2      I GOT MY PERIOD BACK !!. after 2 yrs of no per...  Anorexia  \n",
              "3      a story i guess. i used go to my friends house...  Anorexia  \n",
              "4      I finally ate the one food I said if I’d be ab...  Anorexia  \n",
              "...                                                  ...       ...  \n",
              "10182  How painful is yoga supposed to be?. 40 y/o ma...     NonED  \n",
              "10183  [COMP] Now just keep the foot there without ho...     NonED  \n",
              "10184  My Journey with Yoga. Hello, I’m 69, and have ...     NonED  \n",
              "10185  Starting Yoga at 70.. I will be 70 in a few we...     NonED  \n",
              "10186                             [COMP] Tortoise Pose.      NonED  \n",
              "\n",
              "[10187 rows x 9 columns]"
            ]
          },
          "execution_count": 209,
          "metadata": {},
          "output_type": "execute_result"
        }
      ],
      "source": [
        "data = pd.read_excel('/content/Review1CapstoneDataset10k.xlsx')\n",
        "data"
      ]
    },
    {
      "cell_type": "code",
      "execution_count": 210,
      "metadata": {
        "colab": {
          "base_uri": "https://localhost:8080/"
        },
        "id": "iB5-4BzT2nfW",
        "outputId": "96329d40-0bed-4aa4-bcba-b309fbcf8ed2"
      },
      "outputs": [
        {
          "data": {
            "text/plain": [
              "10187"
            ]
          },
          "execution_count": 210,
          "metadata": {},
          "output_type": "execute_result"
        }
      ],
      "source": [
        "len(data)"
      ]
    },
    {
      "cell_type": "code",
      "execution_count": 211,
      "metadata": {
        "colab": {
          "base_uri": "https://localhost:8080/"
        },
        "id": "KxVNZs2X2nyy",
        "outputId": "2dd0d60e-ad1a-47e3-b05f-cf580eeb0330"
      },
      "outputs": [
        {
          "data": {
            "text/plain": [
              "Title               242\n",
              "Post Text          1878\n",
              "ID                    0\n",
              "Author                0\n",
              "Created_utc           0\n",
              "Permalink             0\n",
              "Eating Disorder       0\n",
              "Content               0\n",
              "Type                  0\n",
              "dtype: int64"
            ]
          },
          "execution_count": 211,
          "metadata": {},
          "output_type": "execute_result"
        }
      ],
      "source": [
        "data.isnull().sum()"
      ]
    },
    {
      "cell_type": "code",
      "execution_count": 212,
      "metadata": {
        "colab": {
          "base_uri": "https://localhost:8080/"
        },
        "id": "eze-TIKk9xFM",
        "outputId": "e6e3197f-d557-4b30-ff16-f66cc9f7454b"
      },
      "outputs": [
        {
          "name": "stdout",
          "output_type": "stream",
          "text": [
            "Duplicate Row Indices: Int64Index([], dtype='int64')\n"
          ]
        }
      ],
      "source": [
        "import pandas as pd\n",
        "\n",
        "# Load your dataset into a pandas DataFrame\n",
        "# Assuming you've loaded your data into the variable 'df'\n",
        "\n",
        "# Get the row numbers of the duplicate rows in the 'Content' column\n",
        "duplicate_indices = data[data.duplicated('Content', keep=False)].index\n",
        "\n",
        "# Print the duplicate indices\n",
        "print(\"Duplicate Row Indices:\", duplicate_indices)"
      ]
    },
    {
      "cell_type": "code",
      "execution_count": 213,
      "metadata": {
        "id": "knpFjMDp_ENJ"
      },
      "outputs": [],
      "source": [
        "data.drop_duplicates(subset='Content', keep='first', inplace=True)\n"
      ]
    },
    {
      "cell_type": "code",
      "execution_count": 214,
      "metadata": {
        "colab": {
          "base_uri": "https://localhost:8080/"
        },
        "id": "1ylLAbcC_IpB",
        "outputId": "e4251f95-ec56-4dd0-dbf0-8465b140ef23"
      },
      "outputs": [
        {
          "name": "stdout",
          "output_type": "stream",
          "text": [
            "Duplicate Row Indices: Int64Index([], dtype='int64')\n"
          ]
        }
      ],
      "source": [
        "duplicate_indices = data[data.duplicated('Content', keep=False)].index\n",
        "print(\"Duplicate Row Indices:\", duplicate_indices)"
      ]
    },
    {
      "cell_type": "code",
      "execution_count": 215,
      "metadata": {
        "colab": {
          "base_uri": "https://localhost:8080/"
        },
        "id": "dv5QVdmm3_LR",
        "outputId": "8a21c4a4-6ad6-4d98-ff74-bb19f4a92144"
      },
      "outputs": [
        {
          "name": "stdout",
          "output_type": "stream",
          "text": [
            "Indices with null labels: Int64Index([], dtype='int64')\n"
          ]
        }
      ],
      "source": [
        "# Find the indices where the label column has null values\n",
        "null_label_indices = data[data['Eating Disorder'].isnull()].index\n",
        "\n",
        "# Print the indices\n",
        "print(\"Indices with null labels:\", null_label_indices)"
      ]
    },
    {
      "cell_type": "code",
      "execution_count": 216,
      "metadata": {
        "colab": {
          "base_uri": "https://localhost:8080/",
          "height": 354
        },
        "id": "N2ciDZmC2vIp",
        "outputId": "c2b14b26-c307-443b-efb4-928d8063f3c1"
      },
      "outputs": [
        {
          "data": {
            "image/png": "[encoded data removed]",
            "text/plain": [
              "<Figure size 500x300 with 1 Axes>"
            ]
          },
          "metadata": {},
          "output_type": "display_data"
        }
      ],
      "source": [
        "import matplotlib.pyplot as plt\n",
        "fig = plt.figure(figsize=(5,3))\n",
        "colors = ['green','darkblue']\n",
        "data.groupby('Eating Disorder').Content.count().plot.barh(\n",
        "    ylim=0, color=colors, title= 'Barplot\\n')\n",
        "plt.xlabel('Number of ocurrences', fontsize = 10);"
      ]
    },
    {
      "cell_type": "code",
      "execution_count": 217,
      "metadata": {
        "colab": {
          "base_uri": "https://localhost:8080/"
        },
        "id": "USmGEhSN7RtG",
        "outputId": "4e71d26e-d746-43c8-b9a3-4e6867c3a614"
      },
      "outputs": [
        {
          "data": {
            "text/plain": [
              "Eating Disorder\n",
              "0    5418\n",
              "1    4769\n",
              "Name: Content, dtype: int64"
            ]
          },
          "execution_count": 217,
          "metadata": {},
          "output_type": "execute_result"
        }
      ],
      "source": [
        "data.groupby('Eating Disorder').Content.count()"
      ]
    },
    {
      "cell_type": "code",
      "execution_count": 218,
      "metadata": {
        "colab": {
          "base_uri": "https://localhost:8080/",
          "height": 354
        },
        "id": "WFTELQ7v7HUO",
        "outputId": "96f5e723-d856-4a02-84c8-130eba4097eb"
      },
      "outputs": [
        {
          "data": {
            "image/png": "[encoded data removed]",
            "text/plain": [
              "<Figure size 500x300 with 1 Axes>"
            ]
          },
          "metadata": {},
          "output_type": "display_data"
        }
      ],
      "source": [
        "import matplotlib.pyplot as plt\n",
        "fig = plt.figure(figsize=(5,3))\n",
        "colors = ['red','darkblue','purple','brown','orange']\n",
        "data.groupby('Type').Content.count().plot.barh(\n",
        "    ylim=0, color=colors, title= 'Barplot\\n')\n",
        "plt.xlabel('Number of ocurrences', fontsize = 10);"
      ]
    },
    {
      "cell_type": "code",
      "execution_count": 219,
      "metadata": {
        "colab": {
          "base_uri": "https://localhost:8080/"
        },
        "id": "OCJB1s7V2vXQ",
        "outputId": "c991b2d6-354c-4bcf-9f47-cb17f27f4624"
      },
      "outputs": [
        {
          "data": {
            "text/plain": [
              "Type\n",
              "Anorexia       1992\n",
              "BingeEating    1262\n",
              "Bulimia        1365\n",
              "NonED          5032\n",
              "Pica            536\n",
              "Name: Content, dtype: int64"
            ]
          },
          "execution_count": 219,
          "metadata": {},
          "output_type": "execute_result"
        }
      ],
      "source": [
        "data.groupby('Type').Content.count()"
      ]
    },
    {
      "cell_type": "code",
      "execution_count": 220,
      "metadata": {
        "id": "Oa6N0kkMZZvc"
      },
      "outputs": [],
      "source": [
        "def remove_emoji(string):\n",
        "    emoji_pattern = re.compile(\"[\"\n",
        "                           u\"U0001F600-U0001F64F\"  # emoticons\n",
        "                           u\"U0001F300-U0001F5FF\"  # symbols & pictographs\n",
        "                           u\"U0001F680-U0001F6FF\"  # transport & map symbols\n",
        "                           u\"U0001F1E0-U0001F1FF\"  # flags (iOS)\n",
        "                           u\"U00002702-U000027B0\"\n",
        "                           u\"U000024C2-U0001F251\"\n",
        "                           \"]+\", flags=re.UNICODE)\n",
        "    return emoji_pattern.sub(r'', string)\n",
        "\n",
        "\n",
        "data['Content'] = data['Content'].apply(remove_emoji)"
      ]
    },
    {
      "cell_type": "code",
      "execution_count": 221,
      "metadata": {
        "id": "zLo-r7_2218J"
      },
      "outputs": [],
      "source": [
        "import re\n",
        "from nltk.tokenize import word_tokenize\n",
        "from nltk.corpus import stopwords\n",
        "from nltk.stem import PorterStemmer\n",
        "\n",
        "def preprocess_text(text):\n",
        "    text = text.lower()  # Convert to lowercase\n",
        "    text = re.sub(r'\\d+', '', text)  # Remove numbers\n",
        "    text = re.sub(r'[^\\x00-\\x7F]+', '', text)  # Remove non-ASCII characters\n",
        "    text = re.sub(r'[^\\w\\s]', '', text)  # Remove punctuation\n",
        "    tokens = word_tokenize(text)  # Tokenization\n",
        "    stop_words = set(stopwords.words('english'))  # Stopwords\n",
        "    tokens = [word for word in tokens if word not in stop_words]\n",
        "    ps = PorterStemmer()  # Stemming\n",
        "    tokens = [ps.stem(word) for word in tokens]\n",
        "    return ' '.join(tokens)\n",
        "# Applying preprocessing to the text column\n",
        "data['Content'] = data['Content'].apply(preprocess_text)"
      ]
    },
    {
      "cell_type": "code",
      "execution_count": 222,
      "metadata": {
        "colab": {
          "base_uri": "https://localhost:8080/",
          "height": 753
        },
        "id": "bqI8QaUh22R3",
        "outputId": "b0bcf72b-dc2d-42f5-8a82-17dfcfe0e643"
      },
      "outputs": [
        {
          "data": {
            "text/html": [
              "\n",
              "  <div id=\"df-b3fbbcc5-a954-4496-ab5a-80c2e6e73d87\" class=\"colab-df-container\">\n",
              "    <div>\n",
              "<style scoped>\n",
              "    .dataframe tbody tr th:only-of-type {\n",
              "        vertical-align: middle;\n",
              "    }\n",
              "\n",
              "    .dataframe tbody tr th {\n",
              "        vertical-align: top;\n",
              "    }\n",
              "\n",
              "    .dataframe thead th {\n",
              "        text-align: right;\n",
              "    }\n",
              "</style>\n",
              "<table border=\"1\" class=\"dataframe\">\n",
              "  <thead>\n",
              "    <tr style=\"text-align: right;\">\n",
              "      <th></th>\n",
              "      <th>Title</th>\n",
              "      <th>Post Text</th>\n",
              "      <th>ID</th>\n",
              "      <th>Author</th>\n",
              "      <th>Created_utc</th>\n",
              "      <th>Permalink</th>\n",
              "      <th>Eating Disorder</th>\n",
              "      <th>Content</th>\n",
              "      <th>Type</th>\n",
              "    </tr>\n",
              "  </thead>\n",
              "  <tbody>\n",
              "    <tr>\n",
              "      <th>25</th>\n",
              "      <td>I DID IT I DID IT! I JUST DECLARED MY ED WITH ...</td>\n",
              "      <td>So today I had a massive relapsed all day (sev...</td>\n",
              "      <td>11jm59h</td>\n",
              "      <td>lovelybloomm</td>\n",
              "      <td>2023-03-06 02:47:58</td>\n",
              "      <td>https://reddit.com/r/AnorexiaRecovery/comments...</td>\n",
              "      <td>1</td>\n",
              "      <td>w w today massiv relaps day sever motnh could ...</td>\n",
              "      <td>Anorexia</td>\n",
              "    </tr>\n",
              "    <tr>\n",
              "      <th>26</th>\n",
              "      <td>hot chocolate is no longer a fear food</td>\n",
              "      <td>Oh my gods, can't believe I was terrified of t...</td>\n",
              "      <td>10y3y2w</td>\n",
              "      <td>kamikazekraken</td>\n",
              "      <td>2023-02-09 19:37:54</td>\n",
              "      <td>https://reddit.com/r/AnorexiaRecovery/comments...</td>\n",
              "      <td>1</td>\n",
              "      <td>hot chocol longer fear food h god cant believ ...</td>\n",
              "      <td>Anorexia</td>\n",
              "    </tr>\n",
              "    <tr>\n",
              "      <th>27</th>\n",
              "      <td>The contradictions of anorexia (with some trea...</td>\n",
              "      <td>Anorexia is:\\n\\n* Wanting to escape your body ...</td>\n",
              "      <td>ykrkqg</td>\n",
              "      <td>learning_corner</td>\n",
              "      <td>2022-11-03 03:56:16</td>\n",
              "      <td>https://reddit.com/r/AnorexiaRecovery/comments...</td>\n",
              "      <td>1</td>\n",
              "      <td>contradict anorexia treatment recoveri norexia...</td>\n",
              "      <td>Anorexia</td>\n",
              "    </tr>\n",
              "    <tr>\n",
              "      <th>28</th>\n",
              "      <td>how do you deal with the “oh you gained weight...</td>\n",
              "      <td>i gained 17 kg since i started eating right an...</td>\n",
              "      <td>z6q4m0</td>\n",
              "      <td>janelagasse</td>\n",
              "      <td>2022-11-28 07:30:06</td>\n",
              "      <td>https://reddit.com/r/AnorexiaRecovery/comments...</td>\n",
              "      <td>1</td>\n",
              "      <td>deal oh gain weight bullshit recov anorexia ga...</td>\n",
              "      <td>Anorexia</td>\n",
              "    </tr>\n",
              "    <tr>\n",
              "      <th>29</th>\n",
              "      <td>I got my period!!!</td>\n",
              "      <td>\\nFor the first time in four years I got my pe...</td>\n",
              "      <td>14lstme</td>\n",
              "      <td>Chaotic-ideas</td>\n",
              "      <td>2023-06-29 02:39:27</td>\n",
              "      <td>https://reddit.com/r/AnorexiaRecovery/comments...</td>\n",
              "      <td>1</td>\n",
              "      <td>got period first time four year got period put...</td>\n",
              "      <td>Anorexia</td>\n",
              "    </tr>\n",
              "    <tr>\n",
              "      <th>...</th>\n",
              "      <td>...</td>\n",
              "      <td>...</td>\n",
              "      <td>...</td>\n",
              "      <td>...</td>\n",
              "      <td>...</td>\n",
              "      <td>...</td>\n",
              "      <td>...</td>\n",
              "      <td>...</td>\n",
              "      <td>...</td>\n",
              "    </tr>\n",
              "    <tr>\n",
              "      <th>10182</th>\n",
              "      <td>How painful is yoga supposed to be?</td>\n",
              "      <td>40 y/o male, practicing yoga in a studio (blac...</td>\n",
              "      <td>yv7clf</td>\n",
              "      <td>Legend565252</td>\n",
              "      <td>2022-11-14 18:02:55</td>\n",
              "      <td>https://reddit.com/r/yoga/comments/yv7clf/how_...</td>\n",
              "      <td>0</td>\n",
              "      <td>ow pain yoga suppos yo male practic yoga studi...</td>\n",
              "      <td>NonED</td>\n",
              "    </tr>\n",
              "    <tr>\n",
              "      <th>10183</th>\n",
              "      <td>[COMP] Now just keep the foot there without ho...</td>\n",
              "      <td>Sending serious dedication in practice and sil...</td>\n",
              "      <td>159fg37</td>\n",
              "      <td>thementalyogi</td>\n",
              "      <td>2023-07-25 17:44:29</td>\n",
              "      <td>https://reddit.com/r/yoga/comments/159fg37/com...</td>\n",
              "      <td>0</td>\n",
              "      <td>ow keep foot without hold end seriou dedic pra...</td>\n",
              "      <td>NonED</td>\n",
              "    </tr>\n",
              "    <tr>\n",
              "      <th>10184</th>\n",
              "      <td>My Journey with Yoga</td>\n",
              "      <td>Hello, I’m 69, and have been practicing for 29...</td>\n",
              "      <td>113hmwg</td>\n",
              "      <td>No_Style_3018</td>\n",
              "      <td>2023-02-16 04:12:33</td>\n",
              "      <td>https://reddit.com/r/yoga/comments/113hmwg/my_...</td>\n",
              "      <td>0</td>\n",
              "      <td>ourney yoga ello practic year nitial eschew wo...</td>\n",
              "      <td>NonED</td>\n",
              "    </tr>\n",
              "    <tr>\n",
              "      <th>10185</th>\n",
              "      <td>Starting Yoga at 70.</td>\n",
              "      <td>I will be 70 in a few weeks.\\n\\nI do some smal...</td>\n",
              "      <td>101wupy</td>\n",
              "      <td>[deleted]</td>\n",
              "      <td>2023-01-03 03:29:56</td>\n",
              "      <td>https://reddit.com/r/yoga/comments/101wupy/sta...</td>\n",
              "      <td>0</td>\n",
              "      <td>tart yoga week small weight train resist band ...</td>\n",
              "      <td>NonED</td>\n",
              "    </tr>\n",
              "    <tr>\n",
              "      <th>10186</th>\n",
              "      <td>[COMP] Tortoise Pose</td>\n",
              "      <td>NaN</td>\n",
              "      <td>zm7q1s</td>\n",
              "      <td>[deleted]</td>\n",
              "      <td>2022-12-15 00:57:43</td>\n",
              "      <td>https://reddit.com/r/yoga/comments/zm7q1s/comp...</td>\n",
              "      <td>0</td>\n",
              "      <td>ortois ose</td>\n",
              "      <td>NonED</td>\n",
              "    </tr>\n",
              "  </tbody>\n",
              "</table>\n",
              "<p>10162 rows × 9 columns</p>\n",
              "</div>\n",
              "    <div class=\"colab-df-buttons\">\n",
              "\n",
              "  <div class=\"colab-df-container\">\n",
              "    <button class=\"colab-df-convert\" onclick=\"convertToInteractive('df-b3fbbcc5-a954-4496-ab5a-80c2e6e73d87')\"\n",
              "            title=\"Convert this dataframe to an interactive table.\"\n",
              "            style=\"display:none;\">\n",
              "\n",
              "  <svg xmlns=\"http://www.w3.org/2000/svg\" height=\"24px\" viewBox=\"0 -960 960 960\">\n",
              "    <path d=\"M120-120v-720h720v720H120Zm60-500h600v-160H180v160Zm220 220h160v-160H400v160Zm0 220h160v-160H400v160ZM180-400h160v-160H180v160Zm440 0h160v-160H620v160ZM180-180h160v-160H180v160Zm440 0h160v-160H620v160Z\"/>\n",
              "  </svg>\n",
              "    </button>\n",
              "\n",
              "  <style>\n",
              "    .colab-df-container {\n",
              "      display:flex;\n",
              "      gap: 12px;\n",
              "    }\n",
              "\n",
              "    .colab-df-convert {\n",
              "      background-color: #E8F0FE;\n",
              "      border: none;\n",
              "      border-radius: 50%;\n",
              "      cursor: pointer;\n",
              "      display: none;\n",
              "      fill: #1967D2;\n",
              "      height: 32px;\n",
              "      padding: 0 0 0 0;\n",
              "      width: 32px;\n",
              "    }\n",
              "\n",
              "    .colab-df-convert:hover {\n",
              "      background-color: #E2EBFA;\n",
              "      box-shadow: 0px 1px 2px rgba(60, 64, 67, 0.3), 0px 1px 3px 1px rgba(60, 64, 67, 0.15);\n",
              "      fill: #174EA6;\n",
              "    }\n",
              "\n",
              "    .colab-df-buttons div {\n",
              "      margin-bottom: 4px;\n",
              "    }\n",
              "\n",
              "    [theme=dark] .colab-df-convert {\n",
              "      background-color: #3B4455;\n",
              "      fill: #D2E3FC;\n",
              "    }\n",
              "\n",
              "    [theme=dark] .colab-df-convert:hover {\n",
              "      background-color: #434B5C;\n",
              "      box-shadow: 0px 1px 3px 1px rgba(0, 0, 0, 0.15);\n",
              "      filter: drop-shadow(0px 1px 2px rgba(0, 0, 0, 0.3));\n",
              "      fill: #FFFFFF;\n",
              "    }\n",
              "  </style>\n",
              "\n",
              "    <script>\n",
              "      const buttonEl =\n",
              "        document.querySelector('#df-b3fbbcc5-a954-4496-ab5a-80c2e6e73d87 button.colab-df-convert');\n",
              "      buttonEl.style.display =\n",
              "        google.colab.kernel.accessAllowed ? 'block' : 'none';\n",
              "\n",
              "      async function convertToInteractive(key) {\n",
              "        const element = document.querySelector('#df-b3fbbcc5-a954-4496-ab5a-80c2e6e73d87');\n",
              "        const dataTable =\n",
              "          await google.colab.kernel.invokeFunction('convertToInteractive',\n",
              "                                                    [key], {});\n",
              "        if (!dataTable) return;\n",
              "\n",
              "        const docLinkHtml = 'Like what you see? Visit the ' +\n",
              "          '<a target=\"_blank\" href=https://colab.research.google.com/notebooks/data_table.ipynb>data table notebook</a>'\n",
              "          + ' to learn more about interactive tables.';\n",
              "        element.innerHTML = '';\n",
              "        dataTable['output_type'] = 'display_data';\n",
              "        await google.colab.output.renderOutput(dataTable, element);\n",
              "        const docLink = document.createElement('div');\n",
              "        docLink.innerHTML = docLinkHtml;\n",
              "        element.appendChild(docLink);\n",
              "      }\n",
              "    </script>\n",
              "  </div>\n",
              "\n",
              "\n",
              "<div id=\"df-4758d70b-42ac-44ff-a4c7-287c9987d5b9\">\n",
              "  <button class=\"colab-df-quickchart\" onclick=\"quickchart('df-4758d70b-42ac-44ff-a4c7-287c9987d5b9')\"\n",
              "            title=\"Suggest charts.\"\n",
              "            style=\"display:none;\">\n",
              "\n",
              "<svg xmlns=\"http://www.w3.org/2000/svg\" height=\"24px\"viewBox=\"0 0 24 24\"\n",
              "     width=\"24px\">\n",
              "    <g>\n",
              "        <path d=\"M19 3H5c-1.1 0-2 .9-2 2v14c0 1.1.9 2 2 2h14c1.1 0 2-.9 2-2V5c0-1.1-.9-2-2-2zM9 17H7v-7h2v7zm4 0h-2V7h2v10zm4 0h-2v-4h2v4z\"/>\n",
              "    </g>\n",
              "</svg>\n",
              "  </button>\n",
              "\n",
              "<style>\n",
              "  .colab-df-quickchart {\n",
              "    background-color: #E8F0FE;\n",
              "    border: none;\n",
              "    border-radius: 50%;\n",
              "    cursor: pointer;\n",
              "    display: none;\n",
              "    fill: #1967D2;\n",
              "    height: 32px;\n",
              "    padding: 0 0 0 0;\n",
              "    width: 32px;\n",
              "  }\n",
              "\n",
              "  .colab-df-quickchart:hover {\n",
              "    background-color: #E2EBFA;\n",
              "    box-shadow: 0px 1px 2px rgba(60, 64, 67, 0.3), 0px 1px 3px 1px rgba(60, 64, 67, 0.15);\n",
              "    fill: #174EA6;\n",
              "  }\n",
              "\n",
              "  [theme=dark] .colab-df-quickchart {\n",
              "    background-color: #3B4455;\n",
              "    fill: #D2E3FC;\n",
              "  }\n",
              "\n",
              "  [theme=dark] .colab-df-quickchart:hover {\n",
              "    background-color: #434B5C;\n",
              "    box-shadow: 0px 1px 3px 1px rgba(0, 0, 0, 0.15);\n",
              "    filter: drop-shadow(0px 1px 2px rgba(0, 0, 0, 0.3));\n",
              "    fill: #FFFFFF;\n",
              "  }\n",
              "</style>\n",
              "\n",
              "  <script>\n",
              "    async function quickchart(key) {\n",
              "      const charts = await google.colab.kernel.invokeFunction(\n",
              "          'suggestCharts', [key], {});\n",
              "    }\n",
              "    (() => {\n",
              "      let quickchartButtonEl =\n",
              "        document.querySelector('#df-4758d70b-42ac-44ff-a4c7-287c9987d5b9 button');\n",
              "      quickchartButtonEl.style.display =\n",
              "        google.colab.kernel.accessAllowed ? 'block' : 'none';\n",
              "    })();\n",
              "  </script>\n",
              "</div>\n",
              "    </div>\n",
              "  </div>\n"
            ],
            "text/plain": [
              "                                                   Title  \\\n",
              "25     I DID IT I DID IT! I JUST DECLARED MY ED WITH ...   \n",
              "26                hot chocolate is no longer a fear food   \n",
              "27     The contradictions of anorexia (with some trea...   \n",
              "28     how do you deal with the “oh you gained weight...   \n",
              "29                                    I got my period!!!   \n",
              "...                                                  ...   \n",
              "10182                How painful is yoga supposed to be?   \n",
              "10183  [COMP] Now just keep the foot there without ho...   \n",
              "10184                               My Journey with Yoga   \n",
              "10185                               Starting Yoga at 70.   \n",
              "10186                               [COMP] Tortoise Pose   \n",
              "\n",
              "                                               Post Text       ID  \\\n",
              "25     So today I had a massive relapsed all day (sev...  11jm59h   \n",
              "26     Oh my gods, can't believe I was terrified of t...  10y3y2w   \n",
              "27     Anorexia is:\\n\\n* Wanting to escape your body ...   ykrkqg   \n",
              "28     i gained 17 kg since i started eating right an...   z6q4m0   \n",
              "29     \\nFor the first time in four years I got my pe...  14lstme   \n",
              "...                                                  ...      ...   \n",
              "10182  40 y/o male, practicing yoga in a studio (blac...   yv7clf   \n",
              "10183  Sending serious dedication in practice and sil...  159fg37   \n",
              "10184  Hello, I’m 69, and have been practicing for 29...  113hmwg   \n",
              "10185  I will be 70 in a few weeks.\\n\\nI do some smal...  101wupy   \n",
              "10186                                                NaN   zm7q1s   \n",
              "\n",
              "                Author         Created_utc  \\\n",
              "25        lovelybloomm 2023-03-06 02:47:58   \n",
              "26      kamikazekraken 2023-02-09 19:37:54   \n",
              "27     learning_corner 2022-11-03 03:56:16   \n",
              "28         janelagasse 2022-11-28 07:30:06   \n",
              "29       Chaotic-ideas 2023-06-29 02:39:27   \n",
              "...                ...                 ...   \n",
              "10182     Legend565252 2022-11-14 18:02:55   \n",
              "10183    thementalyogi 2023-07-25 17:44:29   \n",
              "10184    No_Style_3018 2023-02-16 04:12:33   \n",
              "10185        [deleted] 2023-01-03 03:29:56   \n",
              "10186        [deleted] 2022-12-15 00:57:43   \n",
              "\n",
              "                                               Permalink  Eating Disorder  \\\n",
              "25     https://reddit.com/r/AnorexiaRecovery/comments...                1   \n",
              "26     https://reddit.com/r/AnorexiaRecovery/comments...                1   \n",
              "27     https://reddit.com/r/AnorexiaRecovery/comments...                1   \n",
              "28     https://reddit.com/r/AnorexiaRecovery/comments...                1   \n",
              "29     https://reddit.com/r/AnorexiaRecovery/comments...                1   \n",
              "...                                                  ...              ...   \n",
              "10182  https://reddit.com/r/yoga/comments/yv7clf/how_...                0   \n",
              "10183  https://reddit.com/r/yoga/comments/159fg37/com...                0   \n",
              "10184  https://reddit.com/r/yoga/comments/113hmwg/my_...                0   \n",
              "10185  https://reddit.com/r/yoga/comments/101wupy/sta...                0   \n",
              "10186  https://reddit.com/r/yoga/comments/zm7q1s/comp...                0   \n",
              "\n",
              "                                                 Content      Type  \n",
              "25     w w today massiv relaps day sever motnh could ...  Anorexia  \n",
              "26     hot chocol longer fear food h god cant believ ...  Anorexia  \n",
              "27     contradict anorexia treatment recoveri norexia...  Anorexia  \n",
              "28     deal oh gain weight bullshit recov anorexia ga...  Anorexia  \n",
              "29     got period first time four year got period put...  Anorexia  \n",
              "...                                                  ...       ...  \n",
              "10182  ow pain yoga suppos yo male practic yoga studi...     NonED  \n",
              "10183  ow keep foot without hold end seriou dedic pra...     NonED  \n",
              "10184  ourney yoga ello practic year nitial eschew wo...     NonED  \n",
              "10185  tart yoga week small weight train resist band ...     NonED  \n",
              "10186                                         ortois ose     NonED  \n",
              "\n",
              "[10162 rows x 9 columns]"
            ]
          },
          "execution_count": 222,
          "metadata": {},
          "output_type": "execute_result"
        }
      ],
      "source": [
        "data[25::]"
      ]
    },
    {
      "cell_type": "code",
      "execution_count": 223,
      "metadata": {
        "id": "F8634JN322nP"
      },
      "outputs": [],
      "source": [
        "# Splitting data into features and labels\n",
        "X = data['Content']\n",
        "y = data['Eating Disorder']"
      ]
    },
    {
      "cell_type": "code",
      "execution_count": 224,
      "metadata": {
        "id": "oPZZqz4R27te"
      },
      "outputs": [],
      "source": [
        "# Splitting the dataset into training, validation, and testing sets\n",
        "X_train, X_temp, y_train, y_temp = train_test_split(X, y, test_size=0.3, random_state=42)\n",
        "X_val, X_test, y_val, y_test = train_test_split(X_temp, y_temp, test_size=0.5, random_state=42)"
      ]
    },
    {
      "cell_type": "code",
      "execution_count": 225,
      "metadata": {
        "id": "6zXAxUop2-dX"
      },
      "outputs": [],
      "source": [
        "# Bag of Words vectorization\n",
        "count_vectorizer = CountVectorizer(max_features=5000)  # You can adjust the number of features\n",
        "X_train_bow = count_vectorizer.fit_transform(X_train)\n",
        "X_val_bow = count_vectorizer.transform(X_val)\n",
        "X_test_bow = count_vectorizer.transform(X_test)"
      ]
    },
    {
      "cell_type": "markdown",
      "metadata": {
        "id": "SlFiE5UM3LFO"
      },
      "source": [
        "#Multinomial Naive Bayes"
      ]
    },
    {
      "cell_type": "code",
      "execution_count": 226,
      "metadata": {
        "colab": {
          "base_uri": "https://localhost:8080/",
          "height": 74
        },
        "id": "gORMPjBD2-pO",
        "outputId": "c8eafdf4-3e79-44c1-e2fb-009b2173798b"
      },
      "outputs": [
        {
          "data": {
            "text/html": [
              "<style>#sk-container-id-4 {color: black;background-color: white;}#sk-container-id-4 pre{padding: 0;}#sk-container-id-4 div.sk-toggleable {background-color: white;}#sk-container-id-4 label.sk-toggleable__label {cursor: pointer;display: block;width: 100%;margin-bottom: 0;padding: 0.3em;box-sizing: border-box;text-align: center;}#sk-container-id-4 label.sk-toggleable__label-arrow:before {content: \"▸\";float: left;margin-right: 0.25em;color: #696969;}#sk-container-id-4 label.sk-toggleable__label-arrow:hover:before {color: black;}#sk-container-id-4 div.sk-estimator:hover label.sk-toggleable__label-arrow:before {color: black;}#sk-container-id-4 div.sk-toggleable__content {max-height: 0;max-width: 0;overflow: hidden;text-align: left;background-color: #f0f8ff;}#sk-container-id-4 div.sk-toggleable__content pre {margin: 0.2em;color: black;border-radius: 0.25em;background-color: #f0f8ff;}#sk-container-id-4 input.sk-toggleable__control:checked~div.sk-toggleable__content {max-height: 200px;max-width: 100%;overflow: auto;}#sk-container-id-4 input.sk-toggleable__control:checked~label.sk-toggleable__label-arrow:before {content: \"▾\";}#sk-container-id-4 div.sk-estimator input.sk-toggleable__control:checked~label.sk-toggleable__label {background-color: #d4ebff;}#sk-container-id-4 div.sk-label input.sk-toggleable__control:checked~label.sk-toggleable__label {background-color: #d4ebff;}#sk-container-id-4 input.sk-hidden--visually {border: 0;clip: rect(1px 1px 1px 1px);clip: rect(1px, 1px, 1px, 1px);height: 1px;margin: -1px;overflow: hidden;padding: 0;position: absolute;width: 1px;}#sk-container-id-4 div.sk-estimator {font-family: monospace;background-color: #f0f8ff;border: 1px dotted black;border-radius: 0.25em;box-sizing: border-box;margin-bottom: 0.5em;}#sk-container-id-4 div.sk-estimator:hover {background-color: #d4ebff;}#sk-container-id-4 div.sk-parallel-item::after {content: \"\";width: 100%;border-bottom: 1px solid gray;flex-grow: 1;}#sk-container-id-4 div.sk-label:hover label.sk-toggleable__label {background-color: #d4ebff;}#sk-container-id-4 div.sk-serial::before {content: \"\";position: absolute;border-left: 1px solid gray;box-sizing: border-box;top: 0;bottom: 0;left: 50%;z-index: 0;}#sk-container-id-4 div.sk-serial {display: flex;flex-direction: column;align-items: center;background-color: white;padding-right: 0.2em;padding-left: 0.2em;position: relative;}#sk-container-id-4 div.sk-item {position: relative;z-index: 1;}#sk-container-id-4 div.sk-parallel {display: flex;align-items: stretch;justify-content: center;background-color: white;position: relative;}#sk-container-id-4 div.sk-item::before, #sk-container-id-4 div.sk-parallel-item::before {content: \"\";position: absolute;border-left: 1px solid gray;box-sizing: border-box;top: 0;bottom: 0;left: 50%;z-index: -1;}#sk-container-id-4 div.sk-parallel-item {display: flex;flex-direction: column;z-index: 1;position: relative;background-color: white;}#sk-container-id-4 div.sk-parallel-item:first-child::after {align-self: flex-end;width: 50%;}#sk-container-id-4 div.sk-parallel-item:last-child::after {align-self: flex-start;width: 50%;}#sk-container-id-4 div.sk-parallel-item:only-child::after {width: 0;}#sk-container-id-4 div.sk-dashed-wrapped {border: 1px dashed gray;margin: 0 0.4em 0.5em 0.4em;box-sizing: border-box;padding-bottom: 0.4em;background-color: white;}#sk-container-id-4 div.sk-label label {font-family: monospace;font-weight: bold;display: inline-block;line-height: 1.2em;}#sk-container-id-4 div.sk-label-container {text-align: center;}#sk-container-id-4 div.sk-container {/* jupyter's `normalize.less` sets `[hidden] { display: none; }` but bootstrap.min.css set `[hidden] { display: none !important; }` so we also need the `!important` here to be able to override the default hidden behavior on the sphinx rendered scikit-learn.org. See: https://github.com/scikit-learn/scikit-learn/issues/21755 */display: inline-block !important;position: relative;}#sk-container-id-4 div.sk-text-repr-fallback {display: none;}</style><div id=\"sk-container-id-4\" class=\"sk-top-container\"><div class=\"sk-text-repr-fallback\"><pre>MultinomialNB()</pre><b>In a Jupyter environment, please rerun this cell to show the HTML representation or trust the notebook. <br />On GitHub, the HTML representation is unable to render, please try loading this page with nbviewer.org.</b></div><div class=\"sk-container\" hidden><div class=\"sk-item\"><div class=\"sk-estimator sk-toggleable\"><input class=\"sk-toggleable__control sk-hidden--visually\" id=\"sk-estimator-id-4\" type=\"checkbox\" checked><label for=\"sk-estimator-id-4\" class=\"sk-toggleable__label sk-toggleable__label-arrow\">MultinomialNB</label><div class=\"sk-toggleable__content\"><pre>MultinomialNB()</pre></div></div></div></div></div>"
            ],
            "text/plain": [
              "MultinomialNB()"
            ]
          },
          "execution_count": 226,
          "metadata": {},
          "output_type": "execute_result"
        }
      ],
      "source": [
        "# Naive Bayes model\n",
        "model = MultinomialNB()\n",
        "model.fit(X_train_bow, y_train)"
      ]
    },
    {
      "cell_type": "code",
      "execution_count": 227,
      "metadata": {
        "colab": {
          "base_uri": "https://localhost:8080/"
        },
        "id": "5EEtFIBo3Bwm",
        "outputId": "affa8eb8-aea8-4048-8a35-8565842a696d"
      },
      "outputs": [
        {
          "name": "stdout",
          "output_type": "stream",
          "text": [
            "Validation Accuracy: 0.9064136125654451\n",
            "Validation Classification Report:\n",
            "               precision    recall  f1-score   support\n",
            "\n",
            "           0       0.95      0.87      0.91       802\n",
            "           1       0.87      0.95      0.91       726\n",
            "\n",
            "    accuracy                           0.91      1528\n",
            "   macro avg       0.91      0.91      0.91      1528\n",
            "weighted avg       0.91      0.91      0.91      1528\n",
            "\n",
            "Validation Confusion Matrix:\n",
            " [[695 107]\n",
            " [ 36 690]]\n"
          ]
        }
      ],
      "source": [
        "# Prediction on validation set\n",
        "y_val_pred = model.predict(X_val_bow)\n",
        "\n",
        "# Model evaluation\n",
        "print(\"Validation Accuracy:\", accuracy_score(y_val, y_val_pred))\n",
        "print(\"Validation Classification Report:\\n\", classification_report(y_val, y_val_pred))\n",
        "print(\"Validation Confusion Matrix:\\n\", confusion_matrix(y_val, y_val_pred))"
      ]
    },
    {
      "cell_type": "code",
      "execution_count": 228,
      "metadata": {
        "colab": {
          "base_uri": "https://localhost:8080/"
        },
        "id": "62k9yK2O3CFl",
        "outputId": "7543626b-b8ee-4e2e-86b6-f4b5561fdb06"
      },
      "outputs": [
        {
          "name": "stdout",
          "output_type": "stream",
          "text": [
            "Test Accuracy: 0.9045127534336167\n",
            "Test Classification Report:\n",
            "               precision    recall  f1-score   support\n",
            "\n",
            "           0       0.95      0.86      0.90       793\n",
            "           1       0.86      0.96      0.91       736\n",
            "\n",
            "    accuracy                           0.90      1529\n",
            "   macro avg       0.91      0.91      0.90      1529\n",
            "weighted avg       0.91      0.90      0.90      1529\n",
            "\n",
            "Test Confusion Matrix:\n",
            " [[680 113]\n",
            " [ 33 703]]\n"
          ]
        }
      ],
      "source": [
        "# Prediction on test set\n",
        "y_test_pred = model.predict(X_test_bow)\n",
        "\n",
        "# Final model evaluation\n",
        "print(\"Test Accuracy:\", accuracy_score(y_test, y_test_pred))\n",
        "print(\"Test Classification Report:\\n\", classification_report(y_test, y_test_pred))\n",
        "print(\"Test Confusion Matrix:\\n\", confusion_matrix(y_test, y_test_pred))"
      ]
    },
    {
      "cell_type": "code",
      "execution_count": 229,
      "metadata": {
        "colab": {
          "base_uri": "https://localhost:8080/",
          "height": 449
        },
        "id": "1RH7M1OE56YK",
        "outputId": "f766ef67-e666-4561-a4e9-cfc06842e420"
      },
      "outputs": [
        {
          "data": {
            "image/png": "[encoded data removed]",
            "text/plain": [
              "<Figure size 640x480 with 2 Axes>"
            ]
          },
          "metadata": {},
          "output_type": "display_data"
        }
      ],
      "source": [
        "import seaborn as sns\n",
        "cm_4 = confusion_matrix(y_test, y_test_pred)\n",
        "plt.title('Heatmap of Confusion Matrix', fontsize = 10)\n",
        "sns.heatmap(cm_4, annot = True)\n",
        "plt.show()"
      ]
    },
    {
      "cell_type": "markdown",
      "metadata": {
        "id": "B3zo61yq3IK_"
      },
      "source": [
        "#Logistic Regression"
      ]
    },
    {
      "cell_type": "code",
      "execution_count": 230,
      "metadata": {
        "id": "hHh6yC1o3FES"
      },
      "outputs": [],
      "source": [
        "import pandas as pd\n",
        "from sklearn.model_selection import train_test_split\n",
        "from sklearn.feature_extraction.text import TfidfVectorizer\n",
        "from sklearn.linear_model import LogisticRegression\n",
        "from sklearn.metrics import accuracy_score, classification_report, confusion_matrix\n",
        "\n",
        "# Load your dataset, assuming you have a 'text' column and a 'label' column ('ED' or 'Not ED')\n",
        "# Replace this with your actual data loading code\n",
        "df = data"
      ]
    },
    {
      "cell_type": "code",
      "execution_count": 231,
      "metadata": {
        "id": "guaYDEn_3FUn"
      },
      "outputs": [],
      "source": [
        "# Splitting the dataset into training, validation, and testing sets\n",
        "X_train, X_temp, y_train, y_temp = train_test_split(X, y, test_size=0.3, random_state=42)\n",
        "X_val, X_test, y_val, y_test = train_test_split(X_temp, y_temp, test_size=0.5, random_state=42)"
      ]
    },
    {
      "cell_type": "markdown",
      "metadata": {
        "id": "wGKRqtNnLM1P"
      },
      "source": [
        "#Feature Extraction - TF-IDF"
      ]
    },
    {
      "cell_type": "code",
      "execution_count": 232,
      "metadata": {
        "id": "a24WZauxLKh2"
      },
      "outputs": [],
      "source": [
        "# TF-IDF vectorization\n",
        "tfidf_vectorizer = TfidfVectorizer(max_features=5000)  # You can adjust the number of features\n",
        "X_train_tfidf = tfidf_vectorizer.fit_transform(X_train)\n",
        "X_val_tfidf = tfidf_vectorizer.transform(X_val)\n",
        "X_test_tfidf = tfidf_vectorizer.transform(X_test)"
      ]
    },
    {
      "cell_type": "code",
      "execution_count": 233,
      "metadata": {
        "id": "3ZGA8LaqLKzW"
      },
      "outputs": [],
      "source": [
        "# Logistic Regression model\n",
        "model = LogisticRegression()\n",
        "model.fit(X_train_tfidf, y_train)\n",
        "\n",
        "# Prediction on validation set\n",
        "y_val_pred = model.predict(X_val_tfidf)"
      ]
    },
    {
      "cell_type": "code",
      "execution_count": 234,
      "metadata": {
        "colab": {
          "base_uri": "https://localhost:8080/"
        },
        "id": "BeYpYohmLK_O",
        "outputId": "d7ff676d-64df-4c85-f01d-36d243e277e2"
      },
      "outputs": [
        {
          "name": "stdout",
          "output_type": "stream",
          "text": [
            "Validation Accuracy: 0.9057591623036649\n",
            "Validation Classification Report:\n",
            "               precision    recall  f1-score   support\n",
            "\n",
            "           0       0.90      0.92      0.91       802\n",
            "           1       0.91      0.89      0.90       726\n",
            "\n",
            "    accuracy                           0.91      1528\n",
            "   macro avg       0.91      0.90      0.91      1528\n",
            "weighted avg       0.91      0.91      0.91      1528\n",
            "\n",
            "Validation Confusion Matrix:\n",
            " [[741  61]\n",
            " [ 83 643]]\n"
          ]
        }
      ],
      "source": [
        "# Model evaluation\n",
        "print(\"Validation Accuracy:\", accuracy_score(y_val, y_val_pred))\n",
        "print(\"Validation Classification Report:\\n\", classification_report(y_val, y_val_pred))\n",
        "print(\"Validation Confusion Matrix:\\n\", confusion_matrix(y_val, y_val_pred))"
      ]
    },
    {
      "cell_type": "code",
      "execution_count": 235,
      "metadata": {
        "colab": {
          "base_uri": "https://localhost:8080/"
        },
        "id": "jEru1GmiLLNu",
        "outputId": "15d78329-8a92-43a2-e929-3d6a5bf21d2c"
      },
      "outputs": [
        {
          "name": "stdout",
          "output_type": "stream",
          "text": [
            "Test Accuracy: 0.907782864617397\n",
            "Test Classification Report:\n",
            "               precision    recall  f1-score   support\n",
            "\n",
            "           0       0.90      0.92      0.91       793\n",
            "           1       0.92      0.89      0.90       736\n",
            "\n",
            "    accuracy                           0.91      1529\n",
            "   macro avg       0.91      0.91      0.91      1529\n",
            "weighted avg       0.91      0.91      0.91      1529\n",
            "\n",
            "Test Confusion Matrix:\n",
            " [[733  60]\n",
            " [ 81 655]]\n"
          ]
        }
      ],
      "source": [
        "# Prediction on test set\n",
        "y_test_pred = model.predict(X_test_tfidf)\n",
        "# Final model evaluation\n",
        "print(\"Test Accuracy:\", accuracy_score(y_test, y_test_pred))\n",
        "print(\"Test Classification Report:\\n\", classification_report(y_test, y_test_pred))\n",
        "print(\"Test Confusion Matrix:\\n\", confusion_matrix(y_test, y_test_pred))"
      ]
    },
    {
      "cell_type": "code",
      "execution_count": 236,
      "metadata": {
        "colab": {
          "base_uri": "https://localhost:8080/",
          "height": 454
        },
        "id": "idVg8rt36Uvu",
        "outputId": "7ad9fd5d-0e81-4ecb-9626-344025f12938"
      },
      "outputs": [
        {
          "data": {
            "image/png": "[encoded data removed]",
            "text/plain": [
              "<Figure size 640x480 with 2 Axes>"
            ]
          },
          "metadata": {},
          "output_type": "display_data"
        }
      ],
      "source": [
        "cm_3 = confusion_matrix(y_test, y_test_pred)\n",
        "plt.title('Heatmap of Confusion Matrix', fontsize = 15)\n",
        "sns.heatmap(cm_3, annot = True)\n",
        "plt.show()"
      ]
    },
    {
      "cell_type": "markdown",
      "metadata": {
        "id": "mFP09QcHLXsm"
      },
      "source": [
        "#XGBoost"
      ]
    },
    {
      "cell_type": "code",
      "execution_count": 237,
      "metadata": {
        "id": "WIEGY4xHLQoP"
      },
      "outputs": [],
      "source": [
        "import pandas as pd\n",
        "from sklearn.model_selection import train_test_split\n",
        "from sklearn.feature_extraction.text import CountVectorizer\n",
        "from xgboost import XGBClassifier\n",
        "from sklearn.metrics import accuracy_score, classification_report, confusion_matrix\n",
        "import re\n",
        "from nltk.corpus import stopwords\n",
        "from nltk.stem import PorterStemmer\n",
        "from nltk.tokenize import word_tokenize"
      ]
    },
    {
      "cell_type": "code",
      "execution_count": 238,
      "metadata": {
        "id": "ejTboDW7LU_e"
      },
      "outputs": [],
      "source": [
        "# XGBoost model\n",
        "model = XGBClassifier()\n",
        "model.fit(X_train_bow, y_train)\n",
        "\n",
        "# Prediction on validation set\n",
        "y_val_pred = model.predict(X_val_bow)"
      ]
    },
    {
      "cell_type": "code",
      "execution_count": 239,
      "metadata": {
        "colab": {
          "base_uri": "https://localhost:8080/"
        },
        "id": "zIeBf0HgLZoO",
        "outputId": "468046f2-101d-47d9-d79b-c960de7f5b42"
      },
      "outputs": [
        {
          "name": "stdout",
          "output_type": "stream",
          "text": [
            "Validation Accuracy: 0.9077225130890052\n",
            "Validation Classification Report:\n",
            "               precision    recall  f1-score   support\n",
            "\n",
            "           0       0.89      0.94      0.91       802\n",
            "           1       0.93      0.87      0.90       726\n",
            "\n",
            "    accuracy                           0.91      1528\n",
            "   macro avg       0.91      0.91      0.91      1528\n",
            "weighted avg       0.91      0.91      0.91      1528\n",
            "\n",
            "Validation Confusion Matrix:\n",
            " [[756  46]\n",
            " [ 95 631]]\n"
          ]
        }
      ],
      "source": [
        "# Model evaluation\n",
        "print(\"Validation Accuracy:\", accuracy_score(y_val, y_val_pred))\n",
        "print(\"Validation Classification Report:\\n\", classification_report(y_val, y_val_pred))\n",
        "print(\"Validation Confusion Matrix:\\n\", confusion_matrix(y_val, y_val_pred))"
      ]
    },
    {
      "cell_type": "code",
      "execution_count": 240,
      "metadata": {
        "colab": {
          "base_uri": "https://localhost:8080/"
        },
        "id": "mwxlN_oeLbuO",
        "outputId": "ee484530-60e2-4cd1-8df3-fd3acf3bea0a"
      },
      "outputs": [
        {
          "name": "stdout",
          "output_type": "stream",
          "text": [
            "Test Accuracy: 0.9025506867233486\n",
            "Test Classification Report:\n",
            "               precision    recall  f1-score   support\n",
            "\n",
            "           0       0.88      0.94      0.91       793\n",
            "           1       0.93      0.87      0.90       736\n",
            "\n",
            "    accuracy                           0.90      1529\n",
            "   macro avg       0.90      0.90      0.90      1529\n",
            "weighted avg       0.90      0.90      0.90      1529\n",
            "\n",
            "Test Confusion Matrix:\n",
            " [[742  51]\n",
            " [ 98 638]]\n"
          ]
        }
      ],
      "source": [
        "# Prediction on test set\n",
        "y_test_pred = model.predict(X_test_bow)\n",
        "\n",
        "# Final model evaluation\n",
        "print(\"Test Accuracy:\", accuracy_score(y_test, y_test_pred))\n",
        "print(\"Test Classification Report:\\n\", classification_report(y_test, y_test_pred))\n",
        "print(\"Test Confusion Matrix:\\n\", confusion_matrix(y_test, y_test_pred))"
      ]
    },
    {
      "cell_type": "code",
      "execution_count": 241,
      "metadata": {
        "colab": {
          "base_uri": "https://localhost:8080/",
          "height": 454
        },
        "id": "ywZOPE0U6aAu",
        "outputId": "6ca85f5f-a393-4a7d-da75-d3e60a9d62b7"
      },
      "outputs": [
        {
          "data": {
            "image/png": "[encoded data removed]",
            "text/plain": [
              "<Figure size 640x480 with 2 Axes>"
            ]
          },
          "metadata": {},
          "output_type": "display_data"
        }
      ],
      "source": [
        "cm_2 = confusion_matrix(y_test, y_test_pred)\n",
        "plt.title('Heatmap of Confusion Matrix', fontsize = 15)\n",
        "sns.heatmap(cm_2, annot = True)\n",
        "plt.show()"
      ]
    },
    {
      "cell_type": "markdown",
      "metadata": {
        "id": "3V2Xya_fLhjX"
      },
      "source": [
        "#SVM"
      ]
    },
    {
      "cell_type": "code",
      "execution_count": 242,
      "metadata": {
        "id": "nHCB0FHJL2Z9"
      },
      "outputs": [],
      "source": [
        "from sklearn.feature_extraction.text import TfidfVectorizer, CountVectorizer\n",
        "\n",
        "from sklearn.metrics import confusion_matrix\n",
        "from sklearn.metrics import classification_report\n",
        "\n",
        "from sklearn.model_selection import cross_val_score\n",
        "from sklearn.model_selection import cross_val_predict\n",
        "from sklearn.model_selection import train_test_split\n",
        "\n",
        "from sklearn.svm import LinearSVC\n",
        "from sklearn.tree import DecisionTreeClassifier\n",
        "from sklearn import tree"
      ]
    },
    {
      "cell_type": "code",
      "execution_count": 243,
      "metadata": {
        "id": "l_N9XuWNNNYU"
      },
      "outputs": [],
      "source": [
        "# Splitting the dataset into training, validation, and testing sets\n",
        "X_train, X_temp, y_train, y_temp = train_test_split(X, y, test_size=0.3, random_state=42)\n",
        "X_val, X_test, y_val, y_test = train_test_split(X_temp, y_temp, test_size=0.5, random_state=42)"
      ]
    },
    {
      "cell_type": "code",
      "execution_count": 244,
      "metadata": {
        "id": "6x5tWaNUMbUF"
      },
      "outputs": [],
      "source": [
        "# TF-IDF vectorization\n",
        "tfidf_vectorizer = TfidfVectorizer(max_features=5000)  # You can adjust the number of features\n",
        "X_train_tfidf = tfidf_vectorizer.fit_transform(X_train)\n",
        "X_val_tfidf = tfidf_vectorizer.transform(X_val)\n",
        "X_test_tfidf = tfidf_vectorizer.transform(X_test)"
      ]
    },
    {
      "cell_type": "code",
      "execution_count": 245,
      "metadata": {
        "colab": {
          "base_uri": "https://localhost:8080/"
        },
        "id": "vMf__h6cLyvK",
        "outputId": "e9700919-e66f-40fc-cbc8-fb182a4dceaa"
      },
      "outputs": [
        {
          "name": "stdout",
          "output_type": "stream",
          "text": [
            "              precision    recall  f1-score   support\n",
            "\n",
            "           0       0.86      0.88      0.87       793\n",
            "           1       0.87      0.84      0.85       736\n",
            "\n",
            "    accuracy                           0.86      1529\n",
            "   macro avg       0.86      0.86      0.86      1529\n",
            "weighted avg       0.86      0.86      0.86      1529\n",
            "\n"
          ]
        }
      ],
      "source": [
        "vectorizer = CountVectorizer()\n",
        "svm = LinearSVC()\n",
        "X_train = vectorizer.fit_transform(X_train)\n",
        "X_test = vectorizer.transform(X_test)\n",
        "_ = svm.fit(X_train, y_train)\n",
        "y_pred = svm.predict(X_test)\n",
        "print(classification_report(y_test, y_pred))"
      ]
    },
    {
      "cell_type": "code",
      "execution_count": 246,
      "metadata": {
        "colab": {
          "base_uri": "https://localhost:8080/"
        },
        "id": "APuMtzp1Lzh9",
        "outputId": "dd3fc9da-3f99-49fb-f193-3f94865d0d3a"
      },
      "outputs": [
        {
          "name": "stdout",
          "output_type": "stream",
          "text": [
            "Accuracy: 0.8613472858077175\n"
          ]
        }
      ],
      "source": [
        "# Model evaluation\n",
        "y_pred = svm.predict(X_test)\n",
        "accuracy = accuracy_score(y_test, y_pred)\n",
        "print(\"Accuracy:\", accuracy)"
      ]
    },
    {
      "cell_type": "code",
      "execution_count": 247,
      "metadata": {
        "colab": {
          "base_uri": "https://localhost:8080/",
          "height": 454
        },
        "id": "icmTLmNc6gkO",
        "outputId": "2cb2988e-ca03-4477-b1d2-43493d83417b"
      },
      "outputs": [
        {
          "data": {
            "image/png": "[encoded data removed]",
            "text/plain": [
              "<Figure size 640x480 with 2 Axes>"
            ]
          },
          "metadata": {},
          "output_type": "display_data"
        }
      ],
      "source": [
        "cm_1 = confusion_matrix(y_test, y_pred)\n",
        "plt.title('Heatmap of Confusion Matrix', fontsize = 15)\n",
        "sns.heatmap(cm_1, annot = True)\n",
        "plt.show()"
      ]
    },
    {
      "cell_type": "markdown",
      "metadata": {
        "id": "NYG8wdLX6mOC"
      },
      "source": [
        "#Random Forest"
      ]
    },
    {
      "cell_type": "code",
      "execution_count": 248,
      "metadata": {
        "id": "_qOz_wWf6lQX"
      },
      "outputs": [],
      "source": [
        "# Splitting the dataset into training, validation, and testing sets\n",
        "X_train, X_temp, y_train, y_temp = train_test_split(X, y, test_size=0.3, random_state=42)\n",
        "X_val, X_test, y_val, y_test = train_test_split(X_temp, y_temp, test_size=0.5, random_state=42)"
      ]
    },
    {
      "cell_type": "code",
      "execution_count": 249,
      "metadata": {
        "id": "oyjWwhtg6lk2"
      },
      "outputs": [],
      "source": [
        "# TF-IDF vectorization\n",
        "tfidf_vectorizer = TfidfVectorizer(max_features=5000)  # You can adjust the number of features\n",
        "X_train_tfidf = tfidf_vectorizer.fit_transform(X_train)\n",
        "X_val_tfidf = tfidf_vectorizer.transform(X_val)\n",
        "X_test_tfidf = tfidf_vectorizer.transform(X_test)"
      ]
    },
    {
      "cell_type": "code",
      "execution_count": 250,
      "metadata": {
        "id": "xXZrZF5H6l1e"
      },
      "outputs": [],
      "source": [
        "from sklearn.ensemble import RandomForestClassifier\n",
        "rf = RandomForestClassifier(n_estimators = 10,criterion = 'entropy')  #By default 100 Decision Trees will be created.\n",
        "rf= rf.fit(X_train_tfidf,y_train)\n",
        "\n",
        "# Prediction on validation set\n",
        "y_val_pred = rf.predict(X_val_tfidf)"
      ]
    },
    {
      "cell_type": "code",
      "execution_count": 251,
      "metadata": {
        "colab": {
          "base_uri": "https://localhost:8080/"
        },
        "id": "66aIgmPr6v1e",
        "outputId": "bce55693-cf4e-4675-d6f4-a890c7dbcd19"
      },
      "outputs": [
        {
          "name": "stdout",
          "output_type": "stream",
          "text": [
            "Validation Accuracy: 0.8802356020942408\n",
            "Validation Classification Report:\n",
            "               precision    recall  f1-score   support\n",
            "\n",
            "           0       0.86      0.92      0.89       802\n",
            "           1       0.90      0.84      0.87       726\n",
            "\n",
            "    accuracy                           0.88      1528\n",
            "   macro avg       0.88      0.88      0.88      1528\n",
            "weighted avg       0.88      0.88      0.88      1528\n",
            "\n",
            "Validation Confusion Matrix:\n",
            " [[734  68]\n",
            " [115 611]]\n"
          ]
        }
      ],
      "source": [
        "# Model evaluation\n",
        "print(\"Validation Accuracy:\", accuracy_score(y_val, y_val_pred))\n",
        "print(\"Validation Classification Report:\\n\", classification_report(y_val, y_val_pred))\n",
        "print(\"Validation Confusion Matrix:\\n\", confusion_matrix(y_val, y_val_pred))"
      ]
    },
    {
      "cell_type": "code",
      "execution_count": 252,
      "metadata": {
        "colab": {
          "base_uri": "https://localhost:8080/"
        },
        "id": "g3OISuhT60q2",
        "outputId": "075d55ee-8c06-4942-be69-0086d836f783"
      },
      "outputs": [
        {
          "name": "stdout",
          "output_type": "stream",
          "text": [
            "Test Accuracy: 0.8986265533028123\n",
            "Test Classification Report:\n",
            "               precision    recall  f1-score   support\n",
            "\n",
            "           0       0.88      0.93      0.91       793\n",
            "           1       0.92      0.86      0.89       736\n",
            "\n",
            "    accuracy                           0.90      1529\n",
            "   macro avg       0.90      0.90      0.90      1529\n",
            "weighted avg       0.90      0.90      0.90      1529\n",
            "\n",
            "Test Confusion Matrix:\n",
            " [[741  52]\n",
            " [103 633]]\n"
          ]
        }
      ],
      "source": [
        "# Prediction on test set\n",
        "y_test_pred = model.predict(X_test_tfidf)\n",
        "# Final model evaluation\n",
        "print(\"Test Accuracy:\", accuracy_score(y_test, y_test_pred))\n",
        "print(\"Test Classification Report:\\n\", classification_report(y_test, y_test_pred))\n",
        "print(\"Test Confusion Matrix:\\n\", confusion_matrix(y_test, y_test_pred))"
      ]
    },
    {
      "cell_type": "code",
      "execution_count": 253,
      "metadata": {
        "colab": {
          "base_uri": "https://localhost:8080/",
          "height": 454
        },
        "id": "YWDNuG5f634t",
        "outputId": "231430a2-812a-4e13-926f-99f8eae60a93"
      },
      "outputs": [
        {
          "data": {
            "image/png": "[encoded data removed]",
            "text/plain": [
              "<Figure size 640x480 with 2 Axes>"
            ]
          },
          "metadata": {},
          "output_type": "display_data"
        }
      ],
      "source": [
        "import seaborn as sns\n",
        "cm = confusion_matrix(y_test, y_test_pred)\n",
        "plt.title('Heatmap of Confusion Matrix', fontsize = 15)\n",
        "sns.heatmap(cm, annot = True)\n",
        "plt.show()"
      ]
    },
    {
      "cell_type": "code",
      "execution_count": 254,
      "metadata": {
        "colab": {
          "base_uri": "https://localhost:8080/",
          "height": 455
        },
        "id": "z1gX-W9xVOvZ",
        "outputId": "7628a075-521a-4910-cd43-1926b356bd3b"
      },
      "outputs": [
        {
          "data": {
            "image/png": "[encoded data removed]",
            "text/plain": [
              "<Figure size 640x480 with 1 Axes>"
            ]
          },
          "metadata": {},
          "output_type": "display_data"
        }
      ],
      "source": [
        "x = ['NB','LR','XGBoost', 'SVM' ,'Random Forest']\n",
        "y = [90.58207979071289,90.7128842380641,90.32047089601046,84.89208633093526,90.05886200130805]\n",
        "plt.xlabel('Models', fontsize = 15);\n",
        "plt.ylabel('Accuracy(%)', fontsize = 15);\n",
        "plt.bar(x,y)  #Bar graph.\n",
        "plt.show()"
      ]
    }
  ],
  "metadata": {
    "colab": {
      "provenance": []
    },
    "kernelspec": {
      "display_name": "Python 3",
      "name": "python3"
    },
    "language_info": {
      "name": "python"
    }
  },
  "nbformat": 4,
  "nbformat_minor": 0
}
