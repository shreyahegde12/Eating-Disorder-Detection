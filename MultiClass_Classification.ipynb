{
  "cells": [
    {
      "cell_type": "markdown",
      "metadata": {},
      "source": [
        "Multi-Class Classification of Eating Disorders from Reddit Posts"
      ]
    },
    {
      "cell_type": "code",
      "execution_count": 49,
      "metadata": {
        "id": "Lb6l0dVOrdjQ"
      },
      "outputs": [],
      "source": [
        "import pandas as pd\n",
        "from sklearn.model_selection import train_test_split\n",
        "from sklearn.feature_extraction.text import TfidfVectorizer\n",
        "from sklearn.linear_model import LogisticRegression\n",
        "from sklearn.metrics import classification_report\n",
        "\n",
        "\n",
        "from sklearn.feature_extraction.text import CountVectorizer\n",
        "from sklearn.naive_bayes import MultinomialNB\n",
        "from sklearn.metrics import accuracy_score, classification_report, confusion_matrix\n",
        "import re\n",
        "from nltk.corpus import stopwords\n",
        "from nltk.stem import PorterStemmer\n",
        "from nltk.tokenize import word_tokenize\n"
      ]
    },
    {
      "cell_type": "code",
      "execution_count": 61,
      "metadata": {
        "colab": {
          "base_uri": "https://localhost:8080/",
          "height": 770
        },
        "id": "nKI7-izGruS-",
        "outputId": "00d5fe36-21ae-4af3-f132-ce6abbc32a59"
      },
      "outputs": [
        {
          "data": {
            "text/html": [
              "\n",
              "  <div id=\"df-4b5013bb-518f-4dc8-87a7-7929ba8946d8\" class=\"colab-df-container\">\n",
              "    <div>\n",
              "<style scoped>\n",
              "    .dataframe tbody tr th:only-of-type {\n",
              "        vertical-align: middle;\n",
              "    }\n",
              "\n",
              "    .dataframe tbody tr th {\n",
              "        vertical-align: top;\n",
              "    }\n",
              "\n",
              "    .dataframe thead th {\n",
              "        text-align: right;\n",
              "    }\n",
              "</style>\n",
              "<table border=\"1\" class=\"dataframe\">\n",
              "  <thead>\n",
              "    <tr style=\"text-align: right;\">\n",
              "      <th></th>\n",
              "      <th>Title</th>\n",
              "      <th>Post Text</th>\n",
              "      <th>ID</th>\n",
              "      <th>Author</th>\n",
              "      <th>Created_utc</th>\n",
              "      <th>Permalink</th>\n",
              "      <th>Eating Disorder</th>\n",
              "      <th>Content</th>\n",
              "      <th>Type</th>\n",
              "    </tr>\n",
              "  </thead>\n",
              "  <tbody>\n",
              "    <tr>\n",
              "      <th>0</th>\n",
              "      <td>*lil rant* btw i donât mean to be an asshole...</td>\n",
              "      <td>please tell me iâm not the only one who find...</td>\n",
              "      <td>yxutx5</td>\n",
              "      <td>Anxious-Enthusiasm-7</td>\n",
              "      <td>2022-11-17 16:38:04</td>\n",
              "      <td>https://reddit.com/r/AnorexiaRecovery/comments...</td>\n",
              "      <td>1</td>\n",
              "      <td>*lil rant* btw i donât mean to be an asshole...</td>\n",
              "      <td>Anorexia</td>\n",
              "    </tr>\n",
              "    <tr>\n",
              "      <th>1</th>\n",
              "      <td>I hit a healthy BMI</td>\n",
              "      <td>And Iâm ok with it! Hereâs to keeping goin...</td>\n",
              "      <td>wl2gds</td>\n",
              "      <td>[deleted]</td>\n",
              "      <td>2022-08-10 16:52:41</td>\n",
              "      <td>https://reddit.com/r/AnorexiaRecovery/comments...</td>\n",
              "      <td>1</td>\n",
              "      <td>I hit a healthy BMI. And Iâm ok with it! Her...</td>\n",
              "      <td>Anorexia</td>\n",
              "    </tr>\n",
              "    <tr>\n",
              "      <th>2</th>\n",
              "      <td>I GOT MY PERIOD BACK !!</td>\n",
              "      <td>after 2 yrs of no period, i got it back throug...</td>\n",
              "      <td>13hgcir</td>\n",
              "      <td>JokeFit5094</td>\n",
              "      <td>2023-05-14 16:18:17</td>\n",
              "      <td>https://reddit.com/r/AnorexiaRecovery/comments...</td>\n",
              "      <td>1</td>\n",
              "      <td>I GOT MY PERIOD BACK !!. after 2 yrs of no per...</td>\n",
              "      <td>Anorexia</td>\n",
              "    </tr>\n",
              "    <tr>\n",
              "      <th>3</th>\n",
              "      <td>a story i guess</td>\n",
              "      <td>i used go to my friends house a lot. after lun...</td>\n",
              "      <td>10d1d0s</td>\n",
              "      <td>swagalicious567</td>\n",
              "      <td>2023-01-16 01:32:28</td>\n",
              "      <td>https://reddit.com/r/AnorexiaRecovery/comments...</td>\n",
              "      <td>1</td>\n",
              "      <td>a story i guess. i used go to my friends house...</td>\n",
              "      <td>Anorexia</td>\n",
              "    </tr>\n",
              "    <tr>\n",
              "      <th>4</th>\n",
              "      <td>I finally ate the one food I said if Iâd be ...</td>\n",
              "      <td>GUYS I DID ITð­ð­ð­ð­ð­ I FINALLY AT...</td>\n",
              "      <td>yasyf3</td>\n",
              "      <td>LaurenAshley1307</td>\n",
              "      <td>2022-10-22 17:04:40</td>\n",
              "      <td>https://reddit.com/r/AnorexiaRecovery/comments...</td>\n",
              "      <td>1</td>\n",
              "      <td>I finally ate the one food I said if Iâd be ...</td>\n",
              "      <td>Anorexia</td>\n",
              "    </tr>\n",
              "    <tr>\n",
              "      <th>...</th>\n",
              "      <td>...</td>\n",
              "      <td>...</td>\n",
              "      <td>...</td>\n",
              "      <td>...</td>\n",
              "      <td>...</td>\n",
              "      <td>...</td>\n",
              "      <td>...</td>\n",
              "      <td>...</td>\n",
              "      <td>...</td>\n",
              "    </tr>\n",
              "    <tr>\n",
              "      <th>4669</th>\n",
              "      <td>do I even have pica (If yeah, what do I even d...</td>\n",
              "      <td>so basically, i'm a teen. I like to chew on er...</td>\n",
              "      <td>14nthtl</td>\n",
              "      <td>LongLiveGermans</td>\n",
              "      <td>2023-07-01 12:06:48</td>\n",
              "      <td>https://reddit.com/r/pica/comments/14nthtl/do_...</td>\n",
              "      <td>1</td>\n",
              "      <td>do I even have pica (If yeah, what do I even d...</td>\n",
              "      <td>Pica</td>\n",
              "    </tr>\n",
              "    <tr>\n",
              "      <th>4670</th>\n",
              "      <td>do i have pica?</td>\n",
              "      <td>recently i told some friends abt my strange ea...</td>\n",
              "      <td>14ovzyk</td>\n",
              "      <td>oppressivemoonlight</td>\n",
              "      <td>2023-07-02 18:53:26</td>\n",
              "      <td>https://reddit.com/r/pica/comments/14ovzyk/do_...</td>\n",
              "      <td>1</td>\n",
              "      <td>do i have pica?. recently i told some friends ...</td>\n",
              "      <td>Pica</td>\n",
              "    </tr>\n",
              "    <tr>\n",
              "      <th>4671</th>\n",
              "      <td>Is this a safe alternative?</td>\n",
              "      <td>Ive been craving sand for years and recently f...</td>\n",
              "      <td>14rny6h</td>\n",
              "      <td>Impossible_Newt1207</td>\n",
              "      <td>2023-07-05 21:27:25</td>\n",
              "      <td>https://reddit.com/r/pica/comments/14rny6h/is_...</td>\n",
              "      <td>1</td>\n",
              "      <td>Is this a safe alternative?. Ive been craving ...</td>\n",
              "      <td>Pica</td>\n",
              "    </tr>\n",
              "    <tr>\n",
              "      <th>4672</th>\n",
              "      <td>I canât stop eating hair ties â¦.</td>\n",
              "      <td>ever since i was a kid iâve had the most str...</td>\n",
              "      <td>14rr0es</td>\n",
              "      <td>sugakkyu</td>\n",
              "      <td>2023-07-05 23:24:31</td>\n",
              "      <td>https://reddit.com/r/pica/comments/14rr0es/i_c...</td>\n",
              "      <td>1</td>\n",
              "      <td>I canât stop eating hair ties â¦.. ever sin...</td>\n",
              "      <td>Pica</td>\n",
              "    </tr>\n",
              "    <tr>\n",
              "      <th>4673</th>\n",
              "      <td>does anyone think the cornstarch eating trend ...</td>\n",
              "      <td>NaN</td>\n",
              "      <td>14vf40l</td>\n",
              "      <td>toesucker_68</td>\n",
              "      <td>2023-07-10 00:47:00</td>\n",
              "      <td>https://reddit.com/r/pica/comments/14vf40l/doe...</td>\n",
              "      <td>1</td>\n",
              "      <td>does anyone think the cornstarch eating trend ...</td>\n",
              "      <td>Pica</td>\n",
              "    </tr>\n",
              "  </tbody>\n",
              "</table>\n",
              "<p>4674 rows × 9 columns</p>\n",
              "</div>\n",
              "    <div class=\"colab-df-buttons\">\n",
              "\n",
              "  <div class=\"colab-df-container\">\n",
              "    <button class=\"colab-df-convert\" onclick=\"convertToInteractive('df-4b5013bb-518f-4dc8-87a7-7929ba8946d8')\"\n",
              "            title=\"Convert this dataframe to an interactive table.\"\n",
              "            style=\"display:none;\">\n",
              "\n",
              "  <svg xmlns=\"http://www.w3.org/2000/svg\" height=\"24px\" viewBox=\"0 -960 960 960\">\n",
              "    <path d=\"M120-120v-720h720v720H120Zm60-500h600v-160H180v160Zm220 220h160v-160H400v160Zm0 220h160v-160H400v160ZM180-400h160v-160H180v160Zm440 0h160v-160H620v160ZM180-180h160v-160H180v160Zm440 0h160v-160H620v160Z\"/>\n",
              "  </svg>\n",
              "    </button>\n",
              "\n",
              "  <style>\n",
              "    .colab-df-container {\n",
              "      display:flex;\n",
              "      gap: 12px;\n",
              "    }\n",
              "\n",
              "    .colab-df-convert {\n",
              "      background-color: #E8F0FE;\n",
              "      border: none;\n",
              "      border-radius: 50%;\n",
              "      cursor: pointer;\n",
              "      display: none;\n",
              "      fill: #1967D2;\n",
              "      height: 32px;\n",
              "      padding: 0 0 0 0;\n",
              "      width: 32px;\n",
              "    }\n",
              "\n",
              "    .colab-df-convert:hover {\n",
              "      background-color: #E2EBFA;\n",
              "      box-shadow: 0px 1px 2px rgba(60, 64, 67, 0.3), 0px 1px 3px 1px rgba(60, 64, 67, 0.15);\n",
              "      fill: #174EA6;\n",
              "    }\n",
              "\n",
              "    .colab-df-buttons div {\n",
              "      margin-bottom: 4px;\n",
              "    }\n",
              "\n",
              "    [theme=dark] .colab-df-convert {\n",
              "      background-color: #3B4455;\n",
              "      fill: #D2E3FC;\n",
              "    }\n",
              "\n",
              "    [theme=dark] .colab-df-convert:hover {\n",
              "      background-color: #434B5C;\n",
              "      box-shadow: 0px 1px 3px 1px rgba(0, 0, 0, 0.15);\n",
              "      filter: drop-shadow(0px 1px 2px rgba(0, 0, 0, 0.3));\n",
              "      fill: #FFFFFF;\n",
              "    }\n",
              "  </style>\n",
              "\n",
              "    <script>\n",
              "      const buttonEl =\n",
              "        document.querySelector('#df-4b5013bb-518f-4dc8-87a7-7929ba8946d8 button.colab-df-convert');\n",
              "      buttonEl.style.display =\n",
              "        google.colab.kernel.accessAllowed ? 'block' : 'none';\n",
              "\n",
              "      async function convertToInteractive(key) {\n",
              "        const element = document.querySelector('#df-4b5013bb-518f-4dc8-87a7-7929ba8946d8');\n",
              "        const dataTable =\n",
              "          await google.colab.kernel.invokeFunction('convertToInteractive',\n",
              "                                                    [key], {});\n",
              "        if (!dataTable) return;\n",
              "\n",
              "        const docLinkHtml = 'Like what you see? Visit the ' +\n",
              "          '<a target=\"_blank\" href=https://colab.research.google.com/notebooks/data_table.ipynb>data table notebook</a>'\n",
              "          + ' to learn more about interactive tables.';\n",
              "        element.innerHTML = '';\n",
              "        dataTable['output_type'] = 'display_data';\n",
              "        await google.colab.output.renderOutput(dataTable, element);\n",
              "        const docLink = document.createElement('div');\n",
              "        docLink.innerHTML = docLinkHtml;\n",
              "        element.appendChild(docLink);\n",
              "      }\n",
              "    </script>\n",
              "  </div>\n",
              "\n",
              "\n",
              "<div id=\"df-d84f7bf9-b5ce-410c-9bf8-ce0df153a528\">\n",
              "  <button class=\"colab-df-quickchart\" onclick=\"quickchart('df-d84f7bf9-b5ce-410c-9bf8-ce0df153a528')\"\n",
              "            title=\"Suggest charts.\"\n",
              "            style=\"display:none;\">\n",
              "\n",
              "<svg xmlns=\"http://www.w3.org/2000/svg\" height=\"24px\"viewBox=\"0 0 24 24\"\n",
              "     width=\"24px\">\n",
              "    <g>\n",
              "        <path d=\"M19 3H5c-1.1 0-2 .9-2 2v14c0 1.1.9 2 2 2h14c1.1 0 2-.9 2-2V5c0-1.1-.9-2-2-2zM9 17H7v-7h2v7zm4 0h-2V7h2v10zm4 0h-2v-4h2v4z\"/>\n",
              "    </g>\n",
              "</svg>\n",
              "  </button>\n",
              "\n",
              "<style>\n",
              "  .colab-df-quickchart {\n",
              "    background-color: #E8F0FE;\n",
              "    border: none;\n",
              "    border-radius: 50%;\n",
              "    cursor: pointer;\n",
              "    display: none;\n",
              "    fill: #1967D2;\n",
              "    height: 32px;\n",
              "    padding: 0 0 0 0;\n",
              "    width: 32px;\n",
              "  }\n",
              "\n",
              "  .colab-df-quickchart:hover {\n",
              "    background-color: #E2EBFA;\n",
              "    box-shadow: 0px 1px 2px rgba(60, 64, 67, 0.3), 0px 1px 3px 1px rgba(60, 64, 67, 0.15);\n",
              "    fill: #174EA6;\n",
              "  }\n",
              "\n",
              "  [theme=dark] .colab-df-quickchart {\n",
              "    background-color: #3B4455;\n",
              "    fill: #D2E3FC;\n",
              "  }\n",
              "\n",
              "  [theme=dark] .colab-df-quickchart:hover {\n",
              "    background-color: #434B5C;\n",
              "    box-shadow: 0px 1px 3px 1px rgba(0, 0, 0, 0.15);\n",
              "    filter: drop-shadow(0px 1px 2px rgba(0, 0, 0, 0.3));\n",
              "    fill: #FFFFFF;\n",
              "  }\n",
              "</style>\n",
              "\n",
              "  <script>\n",
              "    async function quickchart(key) {\n",
              "      const charts = await google.colab.kernel.invokeFunction(\n",
              "          'suggestCharts', [key], {});\n",
              "    }\n",
              "    (() => {\n",
              "      let quickchartButtonEl =\n",
              "        document.querySelector('#df-d84f7bf9-b5ce-410c-9bf8-ce0df153a528 button');\n",
              "      quickchartButtonEl.style.display =\n",
              "        google.colab.kernel.accessAllowed ? 'block' : 'none';\n",
              "    })();\n",
              "  </script>\n",
              "</div>\n",
              "    </div>\n",
              "  </div>\n"
            ],
            "text/plain": [
              "                                                  Title  \\\n",
              "0     *lil rant* btw i donât mean to be an asshole...   \n",
              "1                                   I hit a healthy BMI   \n",
              "2                               I GOT MY PERIOD BACK !!   \n",
              "3                                       a story i guess   \n",
              "4     I finally ate the one food I said if Iâd be ...   \n",
              "...                                                 ...   \n",
              "4669  do I even have pica (If yeah, what do I even d...   \n",
              "4670                                    do i have pica?   \n",
              "4671                        Is this a safe alternative?   \n",
              "4672               I canât stop eating hair ties â¦.   \n",
              "4673  does anyone think the cornstarch eating trend ...   \n",
              "\n",
              "                                              Post Text       ID  \\\n",
              "0     please tell me iâm not the only one who find...   yxutx5   \n",
              "1     And Iâm ok with it! Hereâs to keeping goin...   wl2gds   \n",
              "2     after 2 yrs of no period, i got it back throug...  13hgcir   \n",
              "3     i used go to my friends house a lot. after lun...  10d1d0s   \n",
              "4     GUYS I DID ITð­ð­ð­ð­ð­ I FINALLY AT...   yasyf3   \n",
              "...                                                 ...      ...   \n",
              "4669  so basically, i'm a teen. I like to chew on er...  14nthtl   \n",
              "4670  recently i told some friends abt my strange ea...  14ovzyk   \n",
              "4671  Ive been craving sand for years and recently f...  14rny6h   \n",
              "4672  ever since i was a kid iâve had the most str...  14rr0es   \n",
              "4673                                                NaN  14vf40l   \n",
              "\n",
              "                    Author          Created_utc  \\\n",
              "0     Anxious-Enthusiasm-7  2022-11-17 16:38:04   \n",
              "1                [deleted]  2022-08-10 16:52:41   \n",
              "2              JokeFit5094  2023-05-14 16:18:17   \n",
              "3          swagalicious567  2023-01-16 01:32:28   \n",
              "4         LaurenAshley1307  2022-10-22 17:04:40   \n",
              "...                    ...                  ...   \n",
              "4669       LongLiveGermans  2023-07-01 12:06:48   \n",
              "4670   oppressivemoonlight  2023-07-02 18:53:26   \n",
              "4671   Impossible_Newt1207  2023-07-05 21:27:25   \n",
              "4672              sugakkyu  2023-07-05 23:24:31   \n",
              "4673          toesucker_68  2023-07-10 00:47:00   \n",
              "\n",
              "                                              Permalink  Eating Disorder  \\\n",
              "0     https://reddit.com/r/AnorexiaRecovery/comments...                1   \n",
              "1     https://reddit.com/r/AnorexiaRecovery/comments...                1   \n",
              "2     https://reddit.com/r/AnorexiaRecovery/comments...                1   \n",
              "3     https://reddit.com/r/AnorexiaRecovery/comments...                1   \n",
              "4     https://reddit.com/r/AnorexiaRecovery/comments...                1   \n",
              "...                                                 ...              ...   \n",
              "4669  https://reddit.com/r/pica/comments/14nthtl/do_...                1   \n",
              "4670  https://reddit.com/r/pica/comments/14ovzyk/do_...                1   \n",
              "4671  https://reddit.com/r/pica/comments/14rny6h/is_...                1   \n",
              "4672  https://reddit.com/r/pica/comments/14rr0es/i_c...                1   \n",
              "4673  https://reddit.com/r/pica/comments/14vf40l/doe...                1   \n",
              "\n",
              "                                                Content      Type  \n",
              "0     *lil rant* btw i donât mean to be an asshole...  Anorexia  \n",
              "1     I hit a healthy BMI. And Iâm ok with it! Her...  Anorexia  \n",
              "2     I GOT MY PERIOD BACK !!. after 2 yrs of no per...  Anorexia  \n",
              "3     a story i guess. i used go to my friends house...  Anorexia  \n",
              "4     I finally ate the one food I said if Iâd be ...  Anorexia  \n",
              "...                                                 ...       ...  \n",
              "4669  do I even have pica (If yeah, what do I even d...      Pica  \n",
              "4670  do i have pica?. recently i told some friends ...      Pica  \n",
              "4671  Is this a safe alternative?. Ive been craving ...      Pica  \n",
              "4672  I canât stop eating hair ties â¦.. ever sin...      Pica  \n",
              "4673  does anyone think the cornstarch eating trend ...      Pica  \n",
              "\n",
              "[4674 rows x 9 columns]"
            ]
          },
          "execution_count": 61,
          "metadata": {},
          "output_type": "execute_result"
        }
      ],
      "source": [
        "df = pd.read_csv('/content/ED_Types.csv',encoding='latin-1')\n",
        "df"
      ]
    },
    {
      "cell_type": "code",
      "execution_count": 51,
      "metadata": {
        "colab": {
          "base_uri": "https://localhost:8080/"
        },
        "id": "cGsNgw4Ur3J6",
        "outputId": "45a0ebd5-4a77-4654-cd80-c72ffbcaff59"
      },
      "outputs": [
        {
          "data": {
            "text/plain": [
              "4674"
            ]
          },
          "execution_count": 51,
          "metadata": {},
          "output_type": "execute_result"
        }
      ],
      "source": [
        "len(df)"
      ]
    },
    {
      "cell_type": "code",
      "execution_count": 52,
      "metadata": {
        "colab": {
          "base_uri": "https://localhost:8080/"
        },
        "id": "a4FJkS2Mr3Pn",
        "outputId": "bc763281-f8da-4a57-c677-f07ffa8bd429"
      },
      "outputs": [
        {
          "data": {
            "text/plain": [
              "Title                0\n",
              "Post Text          616\n",
              "ID                   0\n",
              "Author               0\n",
              "Created_utc          0\n",
              "Permalink            0\n",
              "Eating Disorder      0\n",
              "Content              0\n",
              "Type                 0\n",
              "dtype: int64"
            ]
          },
          "execution_count": 52,
          "metadata": {},
          "output_type": "execute_result"
        }
      ],
      "source": [
        "df.isnull().sum()"
      ]
    },
    {
      "cell_type": "code",
      "execution_count": 53,
      "metadata": {
        "colab": {
          "base_uri": "https://localhost:8080/",
          "height": 354
        },
        "id": "QYtfx1Oyr3TS",
        "outputId": "57616859-5142-47e7-868e-b4034e1ba632"
      },
      "outputs": [
        {
          "data": {
            "image/png": "[encoded data removed]",
            "text/plain": [
              "<Figure size 500x300 with 1 Axes>"
            ]
          },
          "metadata": {},
          "output_type": "display_data"
        }
      ],
      "source": [
        "import matplotlib.pyplot as plt\n",
        "fig = plt.figure(figsize=(5,3))\n",
        "colors = ['grey','darkblue']\n",
        "df.groupby('Type').Content.count().plot.barh(\n",
        "    ylim=0, color=colors, title= 'Barplot\\n')\n",
        "plt.xlabel('Number of ocurrences', fontsize = 10);"
      ]
    },
    {
      "cell_type": "code",
      "execution_count": 54,
      "metadata": {
        "colab": {
          "base_uri": "https://localhost:8080/"
        },
        "id": "fupUl6DAr3WG",
        "outputId": "dde72988-b158-47fb-cf92-231da4e8ed5c"
      },
      "outputs": [
        {
          "data": {
            "text/plain": [
              "Type\n",
              "Anorexia       1995\n",
              "BingeEating    1257\n",
              "Bulimia        1139\n",
              "Pica            283\n",
              "Name: Content, dtype: int64"
            ]
          },
          "execution_count": 54,
          "metadata": {},
          "output_type": "execute_result"
        }
      ],
      "source": [
        "df.groupby('Type').Content.count()"
      ]
    },
    {
      "cell_type": "markdown",
      "metadata": {
        "id": "Y_jL81eiz8MI"
      },
      "source": [
        "#Break"
      ]
    },
    {
      "cell_type": "code",
      "execution_count": 62,
      "metadata": {
        "id": "qavkvJ0S0NzT"
      },
      "outputs": [],
      "source": [
        "def remove_emoji(string):\n",
        "    emoji_pattern = re.compile(\"[\"\n",
        "                           u\"U0001F600-U0001F64F\"  # emoticons\n",
        "                           u\"U0001F300-U0001F5FF\"  # symbols & pictographs\n",
        "                           u\"U0001F680-U0001F6FF\"  # transport & map symbols\n",
        "                           u\"U0001F1E0-U0001F1FF\"  # flags (iOS)\n",
        "                           u\"U00002702-U000027B0\"\n",
        "                           u\"U000024C2-U0001F251\"\n",
        "                           \"]+\", flags=re.UNICODE)\n",
        "    return emoji_pattern.sub(r'', string)\n",
        "\n",
        "\n",
        "df['Content'] = df['Content'].apply(remove_emoji)\n"
      ]
    },
    {
      "cell_type": "code",
      "execution_count": 63,
      "metadata": {
        "colab": {
          "base_uri": "https://localhost:8080/",
          "height": 123
        },
        "id": "3YeJaUIo01qD",
        "outputId": "1bb4669a-f7cc-4c38-fd9f-7ba67624fb9e"
      },
      "outputs": [
        {
          "data": {
            "application/vnd.google.colaboratory.intrinsic+json": {
              "type": "string"
            },
            "text/plain": [
              "' finally ate the one food  said if â\\x80\\x99d be able to do that â\\x80\\x99d fully beat my relapse... Y   ð\\x9f\\x98\\xadð\\x9f\\x98\\xadð\\x9f\\x98\\xadð\\x9f\\x98\\xadð\\x9f\\x98\\xad  Y    ð\\x9f\\x98\\xadð\\x9f\\x98\\xadð\\x9f\\x98\\xadð\\x9f\\x98\\xadð\\x9f\\x98\\xad â\\x80\\x99m so proud of myself!  always said  would feel like  beat my relapse if  ate a cheeseburger and today  did! ð\\x9f\\x98\\xadð\\x9f\\x98\\xad itâ\\x80\\x99s been such a long road! ð\\x9f\\x98\\xad so many times and thoughts about just wanting to give up. t truly does look absolutely beautiful on this side of the fence. lease remember to be kind to yourself & your mental health. â\\x80\\x99m here for you guys.  just got past my three month mark on eating breakfast and lunch but now â\\x80\\x99m able to also do three meals. or me to beat this  had to drown out my thoughts.  had to have crunchy food with soft foods to feel like  could do it,  had to have protein meal replacement shakes till i felt comfortable enough to add food into the mix with it. â\\x80\\x99m living proof you can do it! ever give up. You got this. lease know â\\x80\\x99m here for you!'"
            ]
          },
          "execution_count": 63,
          "metadata": {},
          "output_type": "execute_result"
        }
      ],
      "source": [
        "df.iloc[4].Content"
      ]
    },
    {
      "cell_type": "code",
      "execution_count": 65,
      "metadata": {
        "id": "0TUrwfCvtSza"
      },
      "outputs": [],
      "source": [
        "import re\n",
        "from nltk.tokenize import word_tokenize\n",
        "from nltk.corpus import stopwords\n",
        "from nltk.stem import PorterStemmer\n",
        "\n",
        "def preprocess_text(text):\n",
        "    text = text.lower()  # Convert to lowercase\n",
        "    text = re.sub(r'\\d+', '', text)  # Remove numbers\n",
        "    text = re.sub(r'[^\\x00-\\x7F]+', '', text)  # Remove non-ASCII characters\n",
        "    text = re.sub(r'[^\\w\\s]', '', text)  # Remove punctuation\n",
        "    tokens = word_tokenize(text)  # Tokenization\n",
        "    stop_words = set(stopwords.words('english'))  # Stopwords\n",
        "    tokens = [word for word in tokens if word not in stop_words]\n",
        "    ps = PorterStemmer()  # Stemming\n",
        "    tokens = [ps.stem(word) for word in tokens]\n",
        "    return ' '.join(tokens)\n",
        "# Applying preprocessing to the text column\n",
        "df['Content'] = df['Content'].apply(preprocess_text)"
      ]
    },
    {
      "cell_type": "code",
      "execution_count": 58,
      "metadata": {
        "colab": {
          "base_uri": "https://localhost:8080/",
          "height": 70
        },
        "id": "Bj9QMqRG2B81",
        "outputId": "27e8864c-91bd-49f2-d91b-c4d7c1693f89"
      },
      "outputs": [
        {
          "data": {
            "application/vnd.google.colaboratory.intrinsic+json": {
              "type": "string"
            },
            "text/plain": [
              "'final ate one food said id abl id fulli beat relaps guy final ate cheeseburg im proud alway said would feel like beat relaps ate cheeseburg today long road mani time thought want give truli look absolut beauti side fenc pleas rememb kind mental health im guy got past three month mark eat breakfast lunch im abl also three meal beat drown thought crunchi food soft food feel like could protein meal replac shake till felt comfort enough add food mix im live proof never give got pleas know im'"
            ]
          },
          "execution_count": 58,
          "metadata": {},
          "output_type": "execute_result"
        }
      ],
      "source": [
        "df.iloc[4].Content"
      ]
    },
    {
      "cell_type": "code",
      "execution_count": 67,
      "metadata": {
        "colab": {
          "base_uri": "https://localhost:8080/"
        },
        "id": "xiORsCEQ3Xh4",
        "outputId": "d3a09321-818c-422a-b6e3-93c4782ed227"
      },
      "outputs": [
        {
          "data": {
            "text/plain": [
              "0       lil rant btw dont mean asshol sorri come way p...\n",
              "1                  hit healthi nd ok ere keep go recoveri\n",
              "2       yr period got back month lot food exercis thou...\n",
              "3       stori guess use go friend hous lot lunch would...\n",
              "4       final ate one food said abl fulli beat relaps ...\n",
              "                              ...                        \n",
              "4669    even pica f yeah even basic im teen like chew ...\n",
              "4670    pica recent told friend abt strang eat habit t...\n",
              "4671    safe altern crave sand year recent found ine t...\n",
              "4672    cant stop eat hair tie ever sinc kid ive stran...\n",
              "4673    anyon think cornstarch eat trend complet glori...\n",
              "Name: Content, Length: 4674, dtype: object"
            ]
          },
          "execution_count": 67,
          "metadata": {},
          "output_type": "execute_result"
        }
      ],
      "source": [
        "df['Content']"
      ]
    },
    {
      "cell_type": "code",
      "execution_count": 68,
      "metadata": {
        "id": "mJb4ULUF3cMJ"
      },
      "outputs": [],
      "source": [
        "# Separate features (X) and labels (y)\n",
        "X = df['Content']  # Reddit posts as features\n",
        "y = df['Type']     # Labels (multi-class categories)"
      ]
    },
    {
      "cell_type": "code",
      "execution_count": 69,
      "metadata": {
        "id": "LAieBwuR3cb2"
      },
      "outputs": [],
      "source": [
        "# Split the dataset into training and testing sets\n",
        "X_train, X_test, y_train, y_test = train_test_split(X, y, test_size=0.2, random_state=42)"
      ]
    },
    {
      "cell_type": "code",
      "execution_count": 70,
      "metadata": {
        "id": "wcPnqH4H3cf4"
      },
      "outputs": [],
      "source": [
        "# Convert text data to numerical features using TF-IDF vectorization\n",
        "tfidf_vectorizer = TfidfVectorizer(max_features=5000)  # You can adjust the max_features parameter\n",
        "X_train_tfidf = tfidf_vectorizer.fit_transform(X_train)\n",
        "X_test_tfidf = tfidf_vectorizer.transform(X_test)"
      ]
    },
    {
      "cell_type": "code",
      "execution_count": 71,
      "metadata": {
        "colab": {
          "base_uri": "https://localhost:8080/",
          "height": 74
        },
        "id": "wCPmWLpZ3cjj",
        "outputId": "8e7adb59-b0b3-4eda-af32-dd8945e7fe49"
      },
      "outputs": [
        {
          "data": {
            "text/html": [
              "<style>#sk-container-id-1 {color: black;background-color: white;}#sk-container-id-1 pre{padding: 0;}#sk-container-id-1 div.sk-toggleable {background-color: white;}#sk-container-id-1 label.sk-toggleable__label {cursor: pointer;display: block;width: 100%;margin-bottom: 0;padding: 0.3em;box-sizing: border-box;text-align: center;}#sk-container-id-1 label.sk-toggleable__label-arrow:before {content: \"▸\";float: left;margin-right: 0.25em;color: #696969;}#sk-container-id-1 label.sk-toggleable__label-arrow:hover:before {color: black;}#sk-container-id-1 div.sk-estimator:hover label.sk-toggleable__label-arrow:before {color: black;}#sk-container-id-1 div.sk-toggleable__content {max-height: 0;max-width: 0;overflow: hidden;text-align: left;background-color: #f0f8ff;}#sk-container-id-1 div.sk-toggleable__content pre {margin: 0.2em;color: black;border-radius: 0.25em;background-color: #f0f8ff;}#sk-container-id-1 input.sk-toggleable__control:checked~div.sk-toggleable__content {max-height: 200px;max-width: 100%;overflow: auto;}#sk-container-id-1 input.sk-toggleable__control:checked~label.sk-toggleable__label-arrow:before {content: \"▾\";}#sk-container-id-1 div.sk-estimator input.sk-toggleable__control:checked~label.sk-toggleable__label {background-color: #d4ebff;}#sk-container-id-1 div.sk-label input.sk-toggleable__control:checked~label.sk-toggleable__label {background-color: #d4ebff;}#sk-container-id-1 input.sk-hidden--visually {border: 0;clip: rect(1px 1px 1px 1px);clip: rect(1px, 1px, 1px, 1px);height: 1px;margin: -1px;overflow: hidden;padding: 0;position: absolute;width: 1px;}#sk-container-id-1 div.sk-estimator {font-family: monospace;background-color: #f0f8ff;border: 1px dotted black;border-radius: 0.25em;box-sizing: border-box;margin-bottom: 0.5em;}#sk-container-id-1 div.sk-estimator:hover {background-color: #d4ebff;}#sk-container-id-1 div.sk-parallel-item::after {content: \"\";width: 100%;border-bottom: 1px solid gray;flex-grow: 1;}#sk-container-id-1 div.sk-label:hover label.sk-toggleable__label {background-color: #d4ebff;}#sk-container-id-1 div.sk-serial::before {content: \"\";position: absolute;border-left: 1px solid gray;box-sizing: border-box;top: 0;bottom: 0;left: 50%;z-index: 0;}#sk-container-id-1 div.sk-serial {display: flex;flex-direction: column;align-items: center;background-color: white;padding-right: 0.2em;padding-left: 0.2em;position: relative;}#sk-container-id-1 div.sk-item {position: relative;z-index: 1;}#sk-container-id-1 div.sk-parallel {display: flex;align-items: stretch;justify-content: center;background-color: white;position: relative;}#sk-container-id-1 div.sk-item::before, #sk-container-id-1 div.sk-parallel-item::before {content: \"\";position: absolute;border-left: 1px solid gray;box-sizing: border-box;top: 0;bottom: 0;left: 50%;z-index: -1;}#sk-container-id-1 div.sk-parallel-item {display: flex;flex-direction: column;z-index: 1;position: relative;background-color: white;}#sk-container-id-1 div.sk-parallel-item:first-child::after {align-self: flex-end;width: 50%;}#sk-container-id-1 div.sk-parallel-item:last-child::after {align-self: flex-start;width: 50%;}#sk-container-id-1 div.sk-parallel-item:only-child::after {width: 0;}#sk-container-id-1 div.sk-dashed-wrapped {border: 1px dashed gray;margin: 0 0.4em 0.5em 0.4em;box-sizing: border-box;padding-bottom: 0.4em;background-color: white;}#sk-container-id-1 div.sk-label label {font-family: monospace;font-weight: bold;display: inline-block;line-height: 1.2em;}#sk-container-id-1 div.sk-label-container {text-align: center;}#sk-container-id-1 div.sk-container {/* jupyter's `normalize.less` sets `[hidden] { display: none; }` but bootstrap.min.css set `[hidden] { display: none !important; }` so we also need the `!important` here to be able to override the default hidden behavior on the sphinx rendered scikit-learn.org. See: https://github.com/scikit-learn/scikit-learn/issues/21755 */display: inline-block !important;position: relative;}#sk-container-id-1 div.sk-text-repr-fallback {display: none;}</style><div id=\"sk-container-id-1\" class=\"sk-top-container\"><div class=\"sk-text-repr-fallback\"><pre>LogisticRegression(max_iter=1000, multi_class=&#x27;multinomial&#x27;)</pre><b>In a Jupyter environment, please rerun this cell to show the HTML representation or trust the notebook. <br />On GitHub, the HTML representation is unable to render, please try loading this page with nbviewer.org.</b></div><div class=\"sk-container\" hidden><div class=\"sk-item\"><div class=\"sk-estimator sk-toggleable\"><input class=\"sk-toggleable__control sk-hidden--visually\" id=\"sk-estimator-id-1\" type=\"checkbox\" checked><label for=\"sk-estimator-id-1\" class=\"sk-toggleable__label sk-toggleable__label-arrow\">LogisticRegression</label><div class=\"sk-toggleable__content\"><pre>LogisticRegression(max_iter=1000, multi_class=&#x27;multinomial&#x27;)</pre></div></div></div></div></div>"
            ],
            "text/plain": [
              "LogisticRegression(max_iter=1000, multi_class='multinomial')"
            ]
          },
          "execution_count": 71,
          "metadata": {},
          "output_type": "execute_result"
        }
      ],
      "source": [
        "# Initialize and train a logistic regression model\n",
        "logreg_model = LogisticRegression(max_iter=1000, multi_class='multinomial', solver='lbfgs')\n",
        "logreg_model.fit(X_train_tfidf, y_train)"
      ]
    },
    {
      "cell_type": "code",
      "execution_count": 72,
      "metadata": {
        "id": "sLOK1MRG3cmc"
      },
      "outputs": [],
      "source": [
        "# Predict the labels on the test set\n",
        "y_pred = logreg_model.predict(X_test_tfidf)"
      ]
    },
    {
      "cell_type": "code",
      "execution_count": 73,
      "metadata": {
        "colab": {
          "base_uri": "https://localhost:8080/"
        },
        "id": "rSjKn_k83cq7",
        "outputId": "8068f3b0-e10e-4a4e-9810-bee119f7cd86"
      },
      "outputs": [
        {
          "name": "stdout",
          "output_type": "stream",
          "text": [
            "              precision    recall  f1-score   support\n",
            "\n",
            "    Anorexia       0.78      0.93      0.85       423\n",
            " BingeEating       0.77      0.74      0.75       245\n",
            "     Bulimia       0.91      0.67      0.77       207\n",
            "        Pica       1.00      0.72      0.83        60\n",
            "\n",
            "    accuracy                           0.81       935\n",
            "   macro avg       0.86      0.76      0.80       935\n",
            "weighted avg       0.82      0.81      0.80       935\n",
            "\n"
          ]
        }
      ],
      "source": [
        "# Evaluate the model\n",
        "classification_rep = classification_report(y_test, y_pred)\n",
        "print(classification_rep)"
      ]
    },
    {
      "cell_type": "code",
      "execution_count": 74,
      "metadata": {
        "colab": {
          "base_uri": "https://localhost:8080/"
        },
        "id": "9JvdFdr83ctl",
        "outputId": "54daff26-9d07-4cce-9b22-55c83f1be679"
      },
      "outputs": [
        {
          "name": "stdout",
          "output_type": "stream",
          "text": [
            "Accuracy: 0.81\n"
          ]
        }
      ],
      "source": [
        "# Calculate accuracy\n",
        "accuracy = accuracy_score(y_test, y_pred)\n",
        "print(f\"Accuracy: {accuracy:.2f}\")"
      ]
    },
    {
      "cell_type": "markdown",
      "metadata": {
        "id": "O2tQIdeDFqxy"
      },
      "source": [
        "#Ensemble"
      ]
    },
    {
      "cell_type": "code",
      "execution_count": 85,
      "metadata": {
        "id": "yJ2a1bQjFxY0"
      },
      "outputs": [],
      "source": [
        "import pandas as pd\n",
        "from sklearn.model_selection import train_test_split\n",
        "from sklearn.feature_extraction.text import TfidfVectorizer\n",
        "from sklearn.svm import SVC\n",
        "from sklearn.ensemble import RandomForestClassifier\n",
        "from xgboost import XGBClassifier\n",
        "from sklearn.metrics import classification_report, accuracy_score"
      ]
    },
    {
      "cell_type": "code",
      "execution_count": 91,
      "metadata": {
        "id": "6dq9lpYkGS8Z"
      },
      "outputs": [],
      "source": [
        "# Create a mapping from class labels to numerical values\n",
        "class_mapping = {'Anorexia': 0, 'BingeEating': 1, 'Bulimia': 2, 'Pica': 3}\n",
        "\n",
        "# Create a new 'Category' column with numerical values\n",
        "df['Category'] = df['Type'].map(class_mapping)\n",
        "\n",
        "# Separate features (X) and labels (y)\n",
        "X = df['Content']  # Reddit posts as features\n",
        "y = df['Type']  # Numerical labels in the 'Category' column\n"
      ]
    },
    {
      "cell_type": "code",
      "execution_count": 92,
      "metadata": {
        "colab": {
          "base_uri": "https://localhost:8080/",
          "height": 788
        },
        "id": "hxj2T9e5HIfy",
        "outputId": "13ca0642-2bde-4451-9954-e67c0b9d93c5"
      },
      "outputs": [
        {
          "data": {
            "text/html": [
              "\n",
              "  <div id=\"df-ec3c063f-a36f-4d2a-a4a5-667e579c18b4\" class=\"colab-df-container\">\n",
              "    <div>\n",
              "<style scoped>\n",
              "    .dataframe tbody tr th:only-of-type {\n",
              "        vertical-align: middle;\n",
              "    }\n",
              "\n",
              "    .dataframe tbody tr th {\n",
              "        vertical-align: top;\n",
              "    }\n",
              "\n",
              "    .dataframe thead th {\n",
              "        text-align: right;\n",
              "    }\n",
              "</style>\n",
              "<table border=\"1\" class=\"dataframe\">\n",
              "  <thead>\n",
              "    <tr style=\"text-align: right;\">\n",
              "      <th></th>\n",
              "      <th>Title</th>\n",
              "      <th>Post Text</th>\n",
              "      <th>ID</th>\n",
              "      <th>Author</th>\n",
              "      <th>Created_utc</th>\n",
              "      <th>Permalink</th>\n",
              "      <th>Eating Disorder</th>\n",
              "      <th>Content</th>\n",
              "      <th>Type</th>\n",
              "      <th>Category</th>\n",
              "    </tr>\n",
              "  </thead>\n",
              "  <tbody>\n",
              "    <tr>\n",
              "      <th>0</th>\n",
              "      <td>*lil rant* btw i donât mean to be an asshole...</td>\n",
              "      <td>please tell me iâm not the only one who find...</td>\n",
              "      <td>yxutx5</td>\n",
              "      <td>Anxious-Enthusiasm-7</td>\n",
              "      <td>2022-11-17 16:38:04</td>\n",
              "      <td>https://reddit.com/r/AnorexiaRecovery/comments...</td>\n",
              "      <td>1</td>\n",
              "      <td>lil rant btw dont mean asshol sorri come way p...</td>\n",
              "      <td>0</td>\n",
              "      <td>NaN</td>\n",
              "    </tr>\n",
              "    <tr>\n",
              "      <th>1</th>\n",
              "      <td>I hit a healthy BMI</td>\n",
              "      <td>And Iâm ok with it! Hereâs to keeping goin...</td>\n",
              "      <td>wl2gds</td>\n",
              "      <td>[deleted]</td>\n",
              "      <td>2022-08-10 16:52:41</td>\n",
              "      <td>https://reddit.com/r/AnorexiaRecovery/comments...</td>\n",
              "      <td>1</td>\n",
              "      <td>hit healthi nd ok ere keep go recoveri</td>\n",
              "      <td>0</td>\n",
              "      <td>NaN</td>\n",
              "    </tr>\n",
              "    <tr>\n",
              "      <th>2</th>\n",
              "      <td>I GOT MY PERIOD BACK !!</td>\n",
              "      <td>after 2 yrs of no period, i got it back throug...</td>\n",
              "      <td>13hgcir</td>\n",
              "      <td>JokeFit5094</td>\n",
              "      <td>2023-05-14 16:18:17</td>\n",
              "      <td>https://reddit.com/r/AnorexiaRecovery/comments...</td>\n",
              "      <td>1</td>\n",
              "      <td>yr period got back month lot food exercis thou...</td>\n",
              "      <td>0</td>\n",
              "      <td>NaN</td>\n",
              "    </tr>\n",
              "    <tr>\n",
              "      <th>3</th>\n",
              "      <td>a story i guess</td>\n",
              "      <td>i used go to my friends house a lot. after lun...</td>\n",
              "      <td>10d1d0s</td>\n",
              "      <td>swagalicious567</td>\n",
              "      <td>2023-01-16 01:32:28</td>\n",
              "      <td>https://reddit.com/r/AnorexiaRecovery/comments...</td>\n",
              "      <td>1</td>\n",
              "      <td>stori guess use go friend hous lot lunch would...</td>\n",
              "      <td>0</td>\n",
              "      <td>NaN</td>\n",
              "    </tr>\n",
              "    <tr>\n",
              "      <th>4</th>\n",
              "      <td>I finally ate the one food I said if Iâd be ...</td>\n",
              "      <td>GUYS I DID ITð­ð­ð­ð­ð­ I FINALLY AT...</td>\n",
              "      <td>yasyf3</td>\n",
              "      <td>LaurenAshley1307</td>\n",
              "      <td>2022-10-22 17:04:40</td>\n",
              "      <td>https://reddit.com/r/AnorexiaRecovery/comments...</td>\n",
              "      <td>1</td>\n",
              "      <td>final ate one food said abl fulli beat relaps ...</td>\n",
              "      <td>0</td>\n",
              "      <td>NaN</td>\n",
              "    </tr>\n",
              "    <tr>\n",
              "      <th>...</th>\n",
              "      <td>...</td>\n",
              "      <td>...</td>\n",
              "      <td>...</td>\n",
              "      <td>...</td>\n",
              "      <td>...</td>\n",
              "      <td>...</td>\n",
              "      <td>...</td>\n",
              "      <td>...</td>\n",
              "      <td>...</td>\n",
              "      <td>...</td>\n",
              "    </tr>\n",
              "    <tr>\n",
              "      <th>4669</th>\n",
              "      <td>do I even have pica (If yeah, what do I even d...</td>\n",
              "      <td>so basically, i'm a teen. I like to chew on er...</td>\n",
              "      <td>14nthtl</td>\n",
              "      <td>LongLiveGermans</td>\n",
              "      <td>2023-07-01 12:06:48</td>\n",
              "      <td>https://reddit.com/r/pica/comments/14nthtl/do_...</td>\n",
              "      <td>1</td>\n",
              "      <td>even pica f yeah even basic im teen like chew ...</td>\n",
              "      <td>3</td>\n",
              "      <td>NaN</td>\n",
              "    </tr>\n",
              "    <tr>\n",
              "      <th>4670</th>\n",
              "      <td>do i have pica?</td>\n",
              "      <td>recently i told some friends abt my strange ea...</td>\n",
              "      <td>14ovzyk</td>\n",
              "      <td>oppressivemoonlight</td>\n",
              "      <td>2023-07-02 18:53:26</td>\n",
              "      <td>https://reddit.com/r/pica/comments/14ovzyk/do_...</td>\n",
              "      <td>1</td>\n",
              "      <td>pica recent told friend abt strang eat habit t...</td>\n",
              "      <td>3</td>\n",
              "      <td>NaN</td>\n",
              "    </tr>\n",
              "    <tr>\n",
              "      <th>4671</th>\n",
              "      <td>Is this a safe alternative?</td>\n",
              "      <td>Ive been craving sand for years and recently f...</td>\n",
              "      <td>14rny6h</td>\n",
              "      <td>Impossible_Newt1207</td>\n",
              "      <td>2023-07-05 21:27:25</td>\n",
              "      <td>https://reddit.com/r/pica/comments/14rny6h/is_...</td>\n",
              "      <td>1</td>\n",
              "      <td>safe altern crave sand year recent found ine t...</td>\n",
              "      <td>3</td>\n",
              "      <td>NaN</td>\n",
              "    </tr>\n",
              "    <tr>\n",
              "      <th>4672</th>\n",
              "      <td>I canât stop eating hair ties â¦.</td>\n",
              "      <td>ever since i was a kid iâve had the most str...</td>\n",
              "      <td>14rr0es</td>\n",
              "      <td>sugakkyu</td>\n",
              "      <td>2023-07-05 23:24:31</td>\n",
              "      <td>https://reddit.com/r/pica/comments/14rr0es/i_c...</td>\n",
              "      <td>1</td>\n",
              "      <td>cant stop eat hair tie ever sinc kid ive stran...</td>\n",
              "      <td>3</td>\n",
              "      <td>NaN</td>\n",
              "    </tr>\n",
              "    <tr>\n",
              "      <th>4673</th>\n",
              "      <td>does anyone think the cornstarch eating trend ...</td>\n",
              "      <td>NaN</td>\n",
              "      <td>14vf40l</td>\n",
              "      <td>toesucker_68</td>\n",
              "      <td>2023-07-10 00:47:00</td>\n",
              "      <td>https://reddit.com/r/pica/comments/14vf40l/doe...</td>\n",
              "      <td>1</td>\n",
              "      <td>anyon think cornstarch eat trend complet glori...</td>\n",
              "      <td>3</td>\n",
              "      <td>NaN</td>\n",
              "    </tr>\n",
              "  </tbody>\n",
              "</table>\n",
              "<p>4674 rows × 10 columns</p>\n",
              "</div>\n",
              "    <div class=\"colab-df-buttons\">\n",
              "\n",
              "  <div class=\"colab-df-container\">\n",
              "    <button class=\"colab-df-convert\" onclick=\"convertToInteractive('df-ec3c063f-a36f-4d2a-a4a5-667e579c18b4')\"\n",
              "            title=\"Convert this dataframe to an interactive table.\"\n",
              "            style=\"display:none;\">\n",
              "\n",
              "  <svg xmlns=\"http://www.w3.org/2000/svg\" height=\"24px\" viewBox=\"0 -960 960 960\">\n",
              "    <path d=\"M120-120v-720h720v720H120Zm60-500h600v-160H180v160Zm220 220h160v-160H400v160Zm0 220h160v-160H400v160ZM180-400h160v-160H180v160Zm440 0h160v-160H620v160ZM180-180h160v-160H180v160Zm440 0h160v-160H620v160Z\"/>\n",
              "  </svg>\n",
              "    </button>\n",
              "\n",
              "  <style>\n",
              "    .colab-df-container {\n",
              "      display:flex;\n",
              "      gap: 12px;\n",
              "    }\n",
              "\n",
              "    .colab-df-convert {\n",
              "      background-color: #E8F0FE;\n",
              "      border: none;\n",
              "      border-radius: 50%;\n",
              "      cursor: pointer;\n",
              "      display: none;\n",
              "      fill: #1967D2;\n",
              "      height: 32px;\n",
              "      padding: 0 0 0 0;\n",
              "      width: 32px;\n",
              "    }\n",
              "\n",
              "    .colab-df-convert:hover {\n",
              "      background-color: #E2EBFA;\n",
              "      box-shadow: 0px 1px 2px rgba(60, 64, 67, 0.3), 0px 1px 3px 1px rgba(60, 64, 67, 0.15);\n",
              "      fill: #174EA6;\n",
              "    }\n",
              "\n",
              "    .colab-df-buttons div {\n",
              "      margin-bottom: 4px;\n",
              "    }\n",
              "\n",
              "    [theme=dark] .colab-df-convert {\n",
              "      background-color: #3B4455;\n",
              "      fill: #D2E3FC;\n",
              "    }\n",
              "\n",
              "    [theme=dark] .colab-df-convert:hover {\n",
              "      background-color: #434B5C;\n",
              "      box-shadow: 0px 1px 3px 1px rgba(0, 0, 0, 0.15);\n",
              "      filter: drop-shadow(0px 1px 2px rgba(0, 0, 0, 0.3));\n",
              "      fill: #FFFFFF;\n",
              "    }\n",
              "  </style>\n",
              "\n",
              "    <script>\n",
              "      const buttonEl =\n",
              "        document.querySelector('#df-ec3c063f-a36f-4d2a-a4a5-667e579c18b4 button.colab-df-convert');\n",
              "      buttonEl.style.display =\n",
              "        google.colab.kernel.accessAllowed ? 'block' : 'none';\n",
              "\n",
              "      async function convertToInteractive(key) {\n",
              "        const element = document.querySelector('#df-ec3c063f-a36f-4d2a-a4a5-667e579c18b4');\n",
              "        const dataTable =\n",
              "          await google.colab.kernel.invokeFunction('convertToInteractive',\n",
              "                                                    [key], {});\n",
              "        if (!dataTable) return;\n",
              "\n",
              "        const docLinkHtml = 'Like what you see? Visit the ' +\n",
              "          '<a target=\"_blank\" href=https://colab.research.google.com/notebooks/data_table.ipynb>data table notebook</a>'\n",
              "          + ' to learn more about interactive tables.';\n",
              "        element.innerHTML = '';\n",
              "        dataTable['output_type'] = 'display_data';\n",
              "        await google.colab.output.renderOutput(dataTable, element);\n",
              "        const docLink = document.createElement('div');\n",
              "        docLink.innerHTML = docLinkHtml;\n",
              "        element.appendChild(docLink);\n",
              "      }\n",
              "    </script>\n",
              "  </div>\n",
              "\n",
              "\n",
              "<div id=\"df-69f936e8-c20d-4e40-b320-8a25a5e30194\">\n",
              "  <button class=\"colab-df-quickchart\" onclick=\"quickchart('df-69f936e8-c20d-4e40-b320-8a25a5e30194')\"\n",
              "            title=\"Suggest charts.\"\n",
              "            style=\"display:none;\">\n",
              "\n",
              "<svg xmlns=\"http://www.w3.org/2000/svg\" height=\"24px\"viewBox=\"0 0 24 24\"\n",
              "     width=\"24px\">\n",
              "    <g>\n",
              "        <path d=\"M19 3H5c-1.1 0-2 .9-2 2v14c0 1.1.9 2 2 2h14c1.1 0 2-.9 2-2V5c0-1.1-.9-2-2-2zM9 17H7v-7h2v7zm4 0h-2V7h2v10zm4 0h-2v-4h2v4z\"/>\n",
              "    </g>\n",
              "</svg>\n",
              "  </button>\n",
              "\n",
              "<style>\n",
              "  .colab-df-quickchart {\n",
              "    background-color: #E8F0FE;\n",
              "    border: none;\n",
              "    border-radius: 50%;\n",
              "    cursor: pointer;\n",
              "    display: none;\n",
              "    fill: #1967D2;\n",
              "    height: 32px;\n",
              "    padding: 0 0 0 0;\n",
              "    width: 32px;\n",
              "  }\n",
              "\n",
              "  .colab-df-quickchart:hover {\n",
              "    background-color: #E2EBFA;\n",
              "    box-shadow: 0px 1px 2px rgba(60, 64, 67, 0.3), 0px 1px 3px 1px rgba(60, 64, 67, 0.15);\n",
              "    fill: #174EA6;\n",
              "  }\n",
              "\n",
              "  [theme=dark] .colab-df-quickchart {\n",
              "    background-color: #3B4455;\n",
              "    fill: #D2E3FC;\n",
              "  }\n",
              "\n",
              "  [theme=dark] .colab-df-quickchart:hover {\n",
              "    background-color: #434B5C;\n",
              "    box-shadow: 0px 1px 3px 1px rgba(0, 0, 0, 0.15);\n",
              "    filter: drop-shadow(0px 1px 2px rgba(0, 0, 0, 0.3));\n",
              "    fill: #FFFFFF;\n",
              "  }\n",
              "</style>\n",
              "\n",
              "  <script>\n",
              "    async function quickchart(key) {\n",
              "      const charts = await google.colab.kernel.invokeFunction(\n",
              "          'suggestCharts', [key], {});\n",
              "    }\n",
              "    (() => {\n",
              "      let quickchartButtonEl =\n",
              "        document.querySelector('#df-69f936e8-c20d-4e40-b320-8a25a5e30194 button');\n",
              "      quickchartButtonEl.style.display =\n",
              "        google.colab.kernel.accessAllowed ? 'block' : 'none';\n",
              "    })();\n",
              "  </script>\n",
              "</div>\n",
              "    </div>\n",
              "  </div>\n"
            ],
            "text/plain": [
              "                                                  Title  \\\n",
              "0     *lil rant* btw i donât mean to be an asshole...   \n",
              "1                                   I hit a healthy BMI   \n",
              "2                               I GOT MY PERIOD BACK !!   \n",
              "3                                       a story i guess   \n",
              "4     I finally ate the one food I said if Iâd be ...   \n",
              "...                                                 ...   \n",
              "4669  do I even have pica (If yeah, what do I even d...   \n",
              "4670                                    do i have pica?   \n",
              "4671                        Is this a safe alternative?   \n",
              "4672               I canât stop eating hair ties â¦.   \n",
              "4673  does anyone think the cornstarch eating trend ...   \n",
              "\n",
              "                                              Post Text       ID  \\\n",
              "0     please tell me iâm not the only one who find...   yxutx5   \n",
              "1     And Iâm ok with it! Hereâs to keeping goin...   wl2gds   \n",
              "2     after 2 yrs of no period, i got it back throug...  13hgcir   \n",
              "3     i used go to my friends house a lot. after lun...  10d1d0s   \n",
              "4     GUYS I DID ITð­ð­ð­ð­ð­ I FINALLY AT...   yasyf3   \n",
              "...                                                 ...      ...   \n",
              "4669  so basically, i'm a teen. I like to chew on er...  14nthtl   \n",
              "4670  recently i told some friends abt my strange ea...  14ovzyk   \n",
              "4671  Ive been craving sand for years and recently f...  14rny6h   \n",
              "4672  ever since i was a kid iâve had the most str...  14rr0es   \n",
              "4673                                                NaN  14vf40l   \n",
              "\n",
              "                    Author          Created_utc  \\\n",
              "0     Anxious-Enthusiasm-7  2022-11-17 16:38:04   \n",
              "1                [deleted]  2022-08-10 16:52:41   \n",
              "2              JokeFit5094  2023-05-14 16:18:17   \n",
              "3          swagalicious567  2023-01-16 01:32:28   \n",
              "4         LaurenAshley1307  2022-10-22 17:04:40   \n",
              "...                    ...                  ...   \n",
              "4669       LongLiveGermans  2023-07-01 12:06:48   \n",
              "4670   oppressivemoonlight  2023-07-02 18:53:26   \n",
              "4671   Impossible_Newt1207  2023-07-05 21:27:25   \n",
              "4672              sugakkyu  2023-07-05 23:24:31   \n",
              "4673          toesucker_68  2023-07-10 00:47:00   \n",
              "\n",
              "                                              Permalink  Eating Disorder  \\\n",
              "0     https://reddit.com/r/AnorexiaRecovery/comments...                1   \n",
              "1     https://reddit.com/r/AnorexiaRecovery/comments...                1   \n",
              "2     https://reddit.com/r/AnorexiaRecovery/comments...                1   \n",
              "3     https://reddit.com/r/AnorexiaRecovery/comments...                1   \n",
              "4     https://reddit.com/r/AnorexiaRecovery/comments...                1   \n",
              "...                                                 ...              ...   \n",
              "4669  https://reddit.com/r/pica/comments/14nthtl/do_...                1   \n",
              "4670  https://reddit.com/r/pica/comments/14ovzyk/do_...                1   \n",
              "4671  https://reddit.com/r/pica/comments/14rny6h/is_...                1   \n",
              "4672  https://reddit.com/r/pica/comments/14rr0es/i_c...                1   \n",
              "4673  https://reddit.com/r/pica/comments/14vf40l/doe...                1   \n",
              "\n",
              "                                                Content  Type  Category  \n",
              "0     lil rant btw dont mean asshol sorri come way p...     0       NaN  \n",
              "1                hit healthi nd ok ere keep go recoveri     0       NaN  \n",
              "2     yr period got back month lot food exercis thou...     0       NaN  \n",
              "3     stori guess use go friend hous lot lunch would...     0       NaN  \n",
              "4     final ate one food said abl fulli beat relaps ...     0       NaN  \n",
              "...                                                 ...   ...       ...  \n",
              "4669  even pica f yeah even basic im teen like chew ...     3       NaN  \n",
              "4670  pica recent told friend abt strang eat habit t...     3       NaN  \n",
              "4671  safe altern crave sand year recent found ine t...     3       NaN  \n",
              "4672  cant stop eat hair tie ever sinc kid ive stran...     3       NaN  \n",
              "4673  anyon think cornstarch eat trend complet glori...     3       NaN  \n",
              "\n",
              "[4674 rows x 10 columns]"
            ]
          },
          "execution_count": 92,
          "metadata": {},
          "output_type": "execute_result"
        }
      ],
      "source": [
        "df\n"
      ]
    },
    {
      "cell_type": "code",
      "execution_count": 93,
      "metadata": {
        "id": "Gdvb9RMVFqjr"
      },
      "outputs": [],
      "source": [
        "# Convert text data to numerical features using TF-IDF vectorization\n",
        "tfidf_vectorizer = TfidfVectorizer(max_features=5000)  # You can adjust the max_features parameter\n",
        "X_train_tfidf = tfidf_vectorizer.fit_transform(X_train)\n",
        "X_test_tfidf = tfidf_vectorizer.transform(X_test)"
      ]
    },
    {
      "cell_type": "code",
      "execution_count": 102,
      "metadata": {
        "id": "jgQzeYACFsyZ"
      },
      "outputs": [],
      "source": [
        "models = [\n",
        "    ('SVM', SVC(kernel='linear', C=1.0)),\n",
        "    ('Random Forest', RandomForestClassifier(n_estimators=100, random_state=42)),\n",
        "    ('Naive Bayes', MultinomialNB()),\n",
        "    ('Logistic Regression', LogisticRegression(max_iter=1000, multi_class='multinomial', solver='lbfgs'))\n",
        "]"
      ]
    },
    {
      "cell_type": "code",
      "execution_count": 103,
      "metadata": {
        "colab": {
          "base_uri": "https://localhost:8080/"
        },
        "id": "qC5KT2l9Fz5p",
        "outputId": "160345c0-bec6-42e8-e162-f751c285cd53"
      },
      "outputs": [
        {
          "name": "stdout",
          "output_type": "stream",
          "text": [
            "Model: SVM\n",
            "Accuracy: 0.80\n",
            "              precision    recall  f1-score   support\n",
            "\n",
            "    Anorexia       0.78      0.90      0.84       423\n",
            " BingeEating       0.73      0.73      0.73       245\n",
            "     Bulimia       0.89      0.66      0.76       207\n",
            "        Pica       1.00      0.82      0.90        60\n",
            "\n",
            "    accuracy                           0.80       935\n",
            "   macro avg       0.85      0.78      0.81       935\n",
            "weighted avg       0.81      0.80      0.80       935\n",
            "\n",
            "========================================\n",
            "Model: Random Forest\n",
            "Accuracy: 0.80\n",
            "              precision    recall  f1-score   support\n",
            "\n",
            "    Anorexia       0.76      0.91      0.83       423\n",
            " BingeEating       0.76      0.73      0.74       245\n",
            "     Bulimia       0.93      0.67      0.78       207\n",
            "        Pica       0.98      0.72      0.83        60\n",
            "\n",
            "    accuracy                           0.80       935\n",
            "   macro avg       0.86      0.76      0.80       935\n",
            "weighted avg       0.81      0.80      0.80       935\n",
            "\n",
            "========================================\n",
            "Model: Naive Bayes\n",
            "Accuracy: 0.63\n",
            "              precision    recall  f1-score   support\n",
            "\n",
            "    Anorexia       0.57      0.97      0.72       423\n",
            " BingeEating       0.76      0.39      0.52       245\n",
            "     Bulimia       0.91      0.33      0.49       207\n",
            "        Pica       1.00      0.22      0.36        60\n",
            "\n",
            "    accuracy                           0.63       935\n",
            "   macro avg       0.81      0.48      0.52       935\n",
            "weighted avg       0.72      0.63      0.59       935\n",
            "\n",
            "========================================\n",
            "Model: Logistic Regression\n",
            "Accuracy: 0.81\n",
            "              precision    recall  f1-score   support\n",
            "\n",
            "    Anorexia       0.78      0.93      0.85       423\n",
            " BingeEating       0.77      0.74      0.75       245\n",
            "     Bulimia       0.91      0.67      0.77       207\n",
            "        Pica       1.00      0.72      0.83        60\n",
            "\n",
            "    accuracy                           0.81       935\n",
            "   macro avg       0.86      0.76      0.80       935\n",
            "weighted avg       0.82      0.81      0.80       935\n",
            "\n",
            "========================================\n"
          ]
        }
      ],
      "source": [
        "# Train and evaluate each model\n",
        "for name, model in models:\n",
        "    model.fit(X_train_tfidf, y_train)\n",
        "    y_pred = model.predict(X_test_tfidf)\n",
        "\n",
        "    accuracy = accuracy_score(y_test, y_pred)\n",
        "    classification_rep = classification_report(y_test, y_pred)\n",
        "\n",
        "    print(f\"Model: {name}\")\n",
        "    print(f\"Accuracy: {accuracy:.2f}\")\n",
        "    print(classification_rep)\n",
        "    print(\"=\"*40)"
      ]
    },
    {
      "cell_type": "code",
      "execution_count": null,
      "metadata": {
        "id": "oNtwCX8kF0Ph"
      },
      "outputs": [],
      "source": []
    }
  ],
  "metadata": {
    "colab": {
      "provenance": []
    },
    "kernelspec": {
      "display_name": "Python 3",
      "name": "python3"
    },
    "language_info": {
      "name": "python"
    }
  },
  "nbformat": 4,
  "nbformat_minor": 0
}
